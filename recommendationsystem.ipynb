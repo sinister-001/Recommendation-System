{
  "nbformat": 4,
  "nbformat_minor": 0,
  "metadata": {
    "colab": {
      "provenance": []
    },
    "kernelspec": {
      "name": "python3",
      "display_name": "Python 3"
    },
    "language_info": {
      "name": "python"
    }
  },
  "cells": [
    {
      "cell_type": "code",
      "source": [
        "pip install python-pptx"
      ],
      "metadata": {
        "colab": {
          "base_uri": "https://localhost:8080/"
        },
        "id": "QI2HO5IgKNEs",
        "outputId": "c466c584-70c0-49fb-ba0e-344bf8d81891"
      },
      "execution_count": 43,
      "outputs": [
        {
          "output_type": "stream",
          "name": "stdout",
          "text": [
            "Looking in indexes: https://pypi.org/simple, https://us-python.pkg.dev/colab-wheels/public/simple/\n",
            "Requirement already satisfied: python-pptx in /usr/local/lib/python3.9/dist-packages (0.6.21)\n",
            "Requirement already satisfied: lxml>=3.1.0 in /usr/local/lib/python3.9/dist-packages (from python-pptx) (4.9.2)\n",
            "Requirement already satisfied: XlsxWriter>=0.5.7 in /usr/local/lib/python3.9/dist-packages (from python-pptx) (3.1.0)\n",
            "Requirement already satisfied: Pillow>=3.3.2 in /usr/local/lib/python3.9/dist-packages (from python-pptx) (8.4.0)\n"
          ]
        }
      ]
    },
    {
      "cell_type": "code",
      "source": [
        "pip install docx2txt"
      ],
      "metadata": {
        "colab": {
          "base_uri": "https://localhost:8080/"
        },
        "id": "7QAd5iueK85x",
        "outputId": "f4b5cb1b-784b-4ace-c0b6-3cb24df99d11"
      },
      "execution_count": 44,
      "outputs": [
        {
          "output_type": "stream",
          "name": "stdout",
          "text": [
            "Looking in indexes: https://pypi.org/simple, https://us-python.pkg.dev/colab-wheels/public/simple/\n",
            "Requirement already satisfied: docx2txt in /usr/local/lib/python3.9/dist-packages (0.8)\n"
          ]
        }
      ]
    },
    {
      "cell_type": "code",
      "source": [
        "pip install PyPDF2"
      ],
      "metadata": {
        "colab": {
          "base_uri": "https://localhost:8080/"
        },
        "id": "2t40So6QK_6C",
        "outputId": "94ee81d8-aa58-49a0-9024-81e7a1390f59"
      },
      "execution_count": 45,
      "outputs": [
        {
          "output_type": "stream",
          "name": "stdout",
          "text": [
            "Looking in indexes: https://pypi.org/simple, https://us-python.pkg.dev/colab-wheels/public/simple/\n",
            "Requirement already satisfied: PyPDF2 in /usr/local/lib/python3.9/dist-packages (3.0.1)\n",
            "Requirement already satisfied: typing_extensions>=3.10.0.0 in /usr/local/lib/python3.9/dist-packages (from PyPDF2) (4.5.0)\n"
          ]
        }
      ]
    },
    {
      "cell_type": "markdown",
      "source": [
        "![eq1.png](data:image/png;base64,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)"
      ],
      "metadata": {
        "id": "TEqosFCgQAY9"
      }
    },
    {
      "cell_type": "markdown",
      "source": [
        "Using the **TfidfTransformer’s default settings**, *TfidfTransformer(norm='l2', use_idf=True, smooth_idf=True, sublinear_tf=False)* the **term frequency**, the number of times a term occurs in a given document, is multiplied with **idf component** which is computed as above equation where *n* is the total number of documents in the document set, and *df(t)* is the number of documents in the document set that contain term. The resulting **tf-idf vectors** are then normalized by the Euclidean norm:\n",
        "\n",
        "![eq2.png](data:image/png;base64,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)"
      ],
      "metadata": {
        "id": "M7Vs_qdIQN2k"
      }
    },
    {
      "cell_type": "markdown",
      "source": [
        "**cosine_similarity** computes the *L2-normalized dot product of vectors*. \n",
        "That is, if *x* and *y* are row vectors, their cosine similarity is defined as:\n",
        "![eq3.png](data:image/png;base64,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)"
      ],
      "metadata": {
        "id": "1wpoqwfqRMPe"
      }
    },
    {
      "cell_type": "markdown",
      "source": [
        "# **Importing the APIs**"
      ],
      "metadata": {
        "id": "sA1bimJ-qXqI"
      }
    },
    {
      "cell_type": "code",
      "source": [
        "import string                     # Module to utitlize string related constants, utility functions and string manipulations\n",
        "import csv                        # Module to implement lasses to read and write tabular data in CSV format\n",
        "from io import StringIO           # Module to manage file-related input and output operations. The advantage of using the IO module is that the classes and functions\n",
        "                                  # available allows us to extend the functionality to enable writing to the Unicode data.\n",
        "from pptx import Presentation     # Module for creating and updating PowerPoint (.pptx) files. A typical use would be generating a customized PowerPoint presentation \n",
        "                                  # from database content, downloadable by clicking a link in a web application.\n",
        "import docx2txt                   # Module purely python-based utility to extract text from docx files. \n",
        "import PyPDF2                     # Module with free and open-source pure-python PDF library capable of splitting, merging, cropping, and transforming the pages of PDF files.\n",
        "import spacy                      # Module which helps us to use both Python and C / C++ functions and debugging tools. Also used for NLP\n",
        "import pandas as pd   \n",
        "import numpy as np\n",
        "import nltk                       # Toolkit build for working with NLP in Python. It provides us various text processing libraries with a lot of test datasets.\n",
        "import re                         # Module that provides regular expression matching operations similar to those found in Perl.\n",
        "import openpyxl                   # Module that is used to read from an Excel file or write to an Excel file\n",
        "from nltk.stem import WordNetLemmatizer\n",
        "\"\"\"\n",
        "Lemmatization is the process of converting a word to its base form. The difference between stemming and lemmatization is, \n",
        "lemmatization considers the context and converts the word to its meaningful base form, whereas stemming just removes the last few characters,\n",
        "often leading to incorrect meanings and spelling errors.\n",
        "\"\"\"\n",
        "from sklearn.feature_extraction.text import TfidfVectorizer\n",
        "#Tfidf - Term Frequency times inverse-document frequency\n",
        "\"\"\"In a large text corpus, some words will be very present (e.g. “the”, “a”, “is” in English) hence carrying very little meaningful information about the \n",
        "   actual contents of the document. If we were to feed the direct count data directly to a classifier those very frequent terms would shadow the frequencies \n",
        "   of rarer yet more interesting terms. In order to re-weight the count features into floating point values suitable for usage by a classifier \n",
        "   it is very common to use the tf–idf transform.\"\"\" \n",
        "from sklearn.metrics.pairwise import cosine_similarity\n",
        "\"\"\"Compute cosine similarity between samples in X and Y.\n",
        "   Cosine similarity, or the cosine kernel, computes similarity as the normalized dot product of X and Y:\n",
        "   K(X, Y) = <X, Y> / (||X||*||Y||)\n",
        "   On L2-normalized data, this function is equivalent to linear_kernel.\"\"\"\n",
        "from gensim.parsing.preprocessing import STOPWORDS as SW\n",
        "\"\"\"\n",
        "A stop word is a commonly used word (such as “the”, “a”, “an”, “in”) that a search engine has been programmed to ignore, \n",
        "both when indexing entries for searching and when retrieving them as the result of a search query.\n",
        "\"\"\"\n",
        "nltk.download('stopwords')\n",
        "nltk.download('wordnet')\n",
        "nltk.download('omw-1.4')\n",
        "nltk.download('averaged_perceptron_tagger')\n",
        "from nltk.corpus import wordnet\n",
        "from nltk.corpus import stopwords\n",
        "import networkx as nx\n",
        "from networkx.algorithms.shortest_paths import weighted\n",
        "import glob\n",
        "from google.colab import drive\n",
        "drive.mount('/content/drive')\n",
        "\n",
        "stop_words = set(stopwords.words('english'))\n",
        "lemmatizer = WordNetLemmatizer()"
      ],
      "metadata": {
        "colab": {
          "base_uri": "https://localhost:8080/"
        },
        "id": "OcVq2VEFyXnq",
        "outputId": "18ad736a-0453-4229-bbbb-7e0b05505324"
      },
      "execution_count": 46,
      "outputs": [
        {
          "output_type": "stream",
          "name": "stderr",
          "text": [
            "[nltk_data] Downloading package stopwords to /root/nltk_data...\n",
            "[nltk_data]   Package stopwords is already up-to-date!\n",
            "[nltk_data] Downloading package wordnet to /root/nltk_data...\n",
            "[nltk_data]   Package wordnet is already up-to-date!\n",
            "[nltk_data] Downloading package omw-1.4 to /root/nltk_data...\n",
            "[nltk_data]   Package omw-1.4 is already up-to-date!\n",
            "[nltk_data] Downloading package averaged_perceptron_tagger to\n",
            "[nltk_data]     /root/nltk_data...\n",
            "[nltk_data]   Package averaged_perceptron_tagger is already up-to-\n",
            "[nltk_data]       date!\n"
          ]
        },
        {
          "output_type": "stream",
          "name": "stdout",
          "text": [
            "Drive already mounted at /content/drive; to attempt to forcibly remount, call drive.mount(\"/content/drive\", force_remount=True).\n"
          ]
        }
      ]
    },
    {
      "cell_type": "markdown",
      "source": [
        "## **Word Document Reader**"
      ],
      "metadata": {
        "id": "Cq3OgI66hM43"
      }
    },
    {
      "cell_type": "code",
      "source": [
        "class wordDocReader:\n",
        "  def __init__(self, file_path: str) -> str:\n",
        "    self.file_path = file_path\n",
        "    \n",
        "  def word_reader(self):\n",
        "\n",
        "    text = docx2txt.process(self.file_path)\n",
        "    text = text.replace('\\n', ' ')\n",
        "    text = text.replace('\\xa0', ' ')\n",
        "    text = text.replace('\\t', ' ')\n",
        "    return text "
      ],
      "metadata": {
        "id": "hswYMNd4g_wl"
      },
      "execution_count": 47,
      "outputs": []
    },
    {
      "cell_type": "markdown",
      "source": [
        "## **Power Point Reader**"
      ],
      "metadata": {
        "id": "kljqBjlJhFZy"
      }
    },
    {
      "cell_type": "code",
      "source": [
        "class pptReader:\n",
        "    \n",
        "    def __init__(self, file_path: str) -> None:\n",
        "        self.file_path = file_path\n",
        "        \n",
        "    def ppt_text(self) -> str:\n",
        "      \n",
        "      prs = Presentation(self.file_path)\n",
        "      text = str()\n",
        "\n",
        "      for slide in prs.slides:\n",
        "        for shape in slide.shapes:\n",
        "          if not shape.has_text_frame:\n",
        "              continue\n",
        "          for paragraph in shape.text_frame.paragraphs:\n",
        "            for run in paragraph.runs:\n",
        "              text += ' ' + run.text\n",
        "      return text"
      ],
      "metadata": {
        "id": "lvE5p1Beg975"
      },
      "execution_count": 48,
      "outputs": []
    },
    {
      "cell_type": "markdown",
      "source": [
        "## **Excel Reader**"
      ],
      "metadata": {
        "id": "fk7ZBlgShVJ3"
      }
    },
    {
      "cell_type": "code",
      "source": [
        "class xlsxReader:\n",
        "    \n",
        "    def __init__(self, file_path: str) -> str:\n",
        "        self.file_path = file_path\n",
        "        \n",
        "    def xlsx_text(self):\n",
        "      \n",
        "      inputExcelFile = self.file_path\n",
        "      text = str()\n",
        "      wb = openpyxl.load_workbook(inputExcelFile)\n",
        "      #This will save the excel sheet as a CSV file\n",
        "      for sn in wb.sheetnames:\n",
        "        excelFile = pd.read_excel(inputExcelFile, engine = 'openpyxl', sheet_name = sn)\n",
        "        excelFile.to_csv(\"ResultCsvFile.csv\", index = None, header=True)\n",
        "\n",
        "        with open(\"ResultCsvFile.csv\", \"r\") as csvFile: \n",
        "          lines = csvFile.read().split(\",\") # \"\\r\\n\" if needed\n",
        "          for val in lines:\n",
        "            if val != '':\n",
        "              text += val + ' '\n",
        "          text = text.replace('\\ufeff', '')\n",
        "          text = text.replace('\\n', ' ')\n",
        "      return text"
      ],
      "metadata": {
        "id": "pO1wSpcnhUHY"
      },
      "execution_count": 49,
      "outputs": []
    },
    {
      "cell_type": "markdown",
      "source": [
        "## **PDF Reader Class**\n"
      ],
      "metadata": {
        "id": "Hvd_dvlrg5dI"
      }
    },
    {
      "cell_type": "code",
      "source": [
        "class pdfReader:\n",
        "    \n",
        "    def __init__(self, file_path: str) -> str:\n",
        "        self.file_path = file_path\n",
        "    \n",
        "    def PDF_one_pager(self) -> str:\n",
        "        content = \"\"\n",
        "        p = open(self.file_path, \"rb\")\n",
        "        pdf = PyPDF2.PdfReader(p)\n",
        "        num_pages = len(pdf.pages)\n",
        "        for i in range(0, num_pages):\n",
        "            content += pdf.pages[i].extract_text() + \"\\n\"\n",
        "        content = \" \".join(content.replace(u\"\\xa0\", \" \").strip().split())\n",
        "        page_number_removal = r\"\\d{1,3} of \\d{1,3}\"\n",
        "        page_number_removal_pattern = re.compile(page_number_removal, re.IGNORECASE)\n",
        "        content = re.sub(page_number_removal_pattern, '',content)\n",
        "        \n",
        "        return content\n",
        "  \n",
        "    def pdf_reader(self) -> str:\n",
        "        opener = open(self.file_path,'rb')\n",
        "        read_pdf = PyPDF2.PdfFileReader(opener)\n",
        "    \n",
        "        return read_pdf\n",
        "  \n",
        "  \n",
        "    def pdf_info(self) -> dict:\n",
        "        opener = open(self.file_path,'rb')\n",
        "        read_pdf = PyPDF2.PdfFileReader(opener)\n",
        "        pdf_info_dict = {}\n",
        "        for key,value in read_pdf.documentInfo.items():\n",
        "            pdf_info_dict[re.sub('/',\"\",key)] = value\n",
        "        return pdf_info_dict\n",
        "  \n",
        "    def pdf_dictionary(self) -> dict:\n",
        "        opener = open(self.file_path,'rb')\n",
        "        read_pdf = PyPDF2.PdfReader(opener)\n",
        "        length = read_pdf.pages\n",
        "        pdf_dict = {}\n",
        "        for i in range(length):\n",
        "            page = read_pdf.getPage(i)\n",
        "            text = page.extract_text()\n",
        "            pdf_dict[i] = text\n",
        "            return pdf_dict"
      ],
      "metadata": {
        "id": "cE32idChg02Z"
      },
      "execution_count": 50,
      "outputs": []
    },
    {
      "cell_type": "markdown",
      "source": [
        "## **CSV Reader**"
      ],
      "metadata": {
        "id": "CI6YInYrhxFP"
      }
    },
    {
      "cell_type": "code",
      "source": [
        "class csvReader:\n",
        "    \n",
        "    def __init__(self, file_path: str) -> str:\n",
        "        self.file_path = file_path\n",
        "        \n",
        "    def csv_text(self):\n",
        "      text = str()\n",
        "      with open(self.file_path, \"r\") as csvFile: \n",
        "        lines = csvFile.read().split(\",\") # \"\\r\\n\" if needed\n",
        "        for val in lines:\n",
        "          text += val + ' '\n",
        "        text = text.replace('\\ufeff', '')\n",
        "        text = text.replace('\\n', ' ')\n",
        "      return text"
      ],
      "metadata": {
        "id": "3luwGKHQhwIx"
      },
      "execution_count": 51,
      "outputs": []
    },
    {
      "cell_type": "markdown",
      "source": [
        "## **Word Document Class**"
      ],
      "metadata": {
        "id": "ttAu04kW6ib-"
      }
    },
    {
      "cell_type": "code",
      "source": [
        "class wordDocReader:\n",
        "  def __init__(self, file_path: str) -> str:\n",
        "    self.file_path = file_path\n",
        "    \n",
        "  def word_reader(self):\n",
        "    text = docx2txt.process(self.file_path)\n",
        "    text = text.replace('\\n', ' ')\n",
        "    text = text.replace('\\xa0', ' ')\n",
        "    text = text.replace('\\t', ' ')\n",
        "    return text "
      ],
      "metadata": {
        "id": "_09BNEVh6mJl"
      },
      "execution_count": 52,
      "outputs": []
    },
    {
      "cell_type": "markdown",
      "source": [
        "## **Power Point Class**"
      ],
      "metadata": {
        "id": "32YDsHoAiJIJ"
      }
    },
    {
      "cell_type": "code",
      "source": [
        "class pptReader:\n",
        "    \n",
        "    def __init__(self, file_path: str) -> str:\n",
        "        self.file_path = file_path\n",
        "        \n",
        "    def ppt_text(self):\n",
        "      prs = Presentation(self.file_path)\n",
        "      text = str()\n",
        "      for slide in prs.slides:\n",
        "        for shape in slide.shapes:\n",
        "          if not shape.has_text_frame:\n",
        "              continue\n",
        "          for paragraph in shape.text_frame.paragraphs:\n",
        "            for run in paragraph.runs:\n",
        "              text += ' ' + run.text\n",
        "                  \n",
        "      return text"
      ],
      "metadata": {
        "id": "kf9NgI3uiFKc"
      },
      "execution_count": 53,
      "outputs": []
    },
    {
      "cell_type": "markdown",
      "source": [
        "## **Data Preprocessing**"
      ],
      "metadata": {
        "id": "mD7hHaG1gtUR"
      }
    },
    {
      "cell_type": "code",
      "source": [
        "class dataprocessor:\n",
        "  def __init__(self):\n",
        "    return\n",
        "  \n",
        "  @staticmethod\n",
        "  def get_wordnet_pos(text: str) -> str:\n",
        "    tag = nltk.pos_tag([text])[0][1][0].upper()\n",
        "    tag_dict = {\"J\": wordnet.ADJ,\n",
        "                \"N\": wordnet.NOUN,\n",
        "                \"V\": wordnet.VERB,\n",
        "                \"R\": wordnet.ADV}\n",
        "\n",
        "    return tag_dict.get(tag, wordnet.NOUN)\n",
        "  \n",
        "  @staticmethod\n",
        "  def preprocess(text: str):\n",
        "    #lowercase\n",
        "    text = text.lower()\n",
        "    \n",
        "    #punctuation removal\n",
        "    text = \"\".join([i for i in text if i not in string.punctuation])\n",
        "    \n",
        "    #Digit removal (Only for ALL numeric numbers)\n",
        "    text = [x for x in text.split(' ') if x.isnumeric() == False]\n",
        "    \n",
        "    #Stop removal\n",
        "    stopwords = nltk.corpus.stopwords.words('english')\n",
        "    custom_stopwords = ['\\n','\\n\\n', '&', ' ', '.', '-', '$', '@']\n",
        "    stopwords.extend(custom_stopwords)\n",
        "\n",
        "    text = [i for i in text if i not in stopwords]\n",
        "    text = ' '.join(word for word in text)\n",
        "    \n",
        "    #lemmanization\n",
        "    lm = WordNetLemmatizer()\n",
        "    text = [lm.lemmatize(word, dataprocessor.get_wordnet_pos(word)) for word in text.split(' ')]\n",
        "    text = ' '.join(word for word in text)\n",
        "    \n",
        "    text = re.sub(' +', ' ',text)\n",
        "    \n",
        "    return text\n",
        "\n",
        "\n",
        "  @staticmethod\n",
        "  def data_reader(list_file_names):\n",
        "    text_list = []\n",
        "    reader = dataprocessor()\n",
        "    for file in list_file_names:\n",
        "      temp = file.split('.')\n",
        "      filetype = temp[-1]\n",
        "      if filetype == \"pdf\":\n",
        "        file_pdf = pdfReader(file)\n",
        "        text = file_pdf.pdf_one_liner()\n",
        "\n",
        "      elif filetype == \"docx\":\n",
        "        word_doc_reader = wordDocReader(file)\n",
        "        text = word_doc_reader.word_reader()\n",
        "\n",
        "      elif filetype == \"pptx\" or filetype == 'ppt':\n",
        "        ppt_reader = pptReader(file)\n",
        "        text = ppt_reader.ppt_text()\n",
        "        \n",
        "      elif filetype == \"csv\":\n",
        "        csv_reader = csvReader(file)\n",
        "        text = csv_reader.csv_text()\n",
        "      \n",
        "      elif filetype == 'xlsx':\n",
        "        xl_reader = xlsxReader(file)\n",
        "        text = xl_reader.xlsx_text()\n",
        "      else:\n",
        "        print('File type {} not supported!'.format(filetype))\n",
        "        continue\n",
        "      \n",
        "      text = reader.preprocess(text)\n",
        "      text_list.append(text)\n",
        "      file_dict = dict()\n",
        "      for i,file in enumerate(list_file_names):\n",
        "        file_dict[i] = (file, file.split('/')[-1])\n",
        "      return text_list, file_dict\n",
        "\n",
        "  @staticmethod\n",
        "  def database_processor(file_dict,text_list: list):\n",
        "    file_vector_dict = dict()\n",
        "    vectorizer = TfidfVectorizer()\n",
        "    vectors = vectorizer.fit_transform(text_list)\n",
        "    feature_names = vectorizer.get_feature_names_out()\n",
        "    matrix = vectors.todense()\n",
        "    list_dense = matrix.tolist()\n",
        "    for i in range(len(list_dense)):\n",
        "      file_vector_dict[file_dict[i][1]] = list_dense[i]\n",
        "\n",
        "    return list_dense, vectorizer, file_vector_dict\n",
        "\n",
        "  @staticmethod\n",
        "  def input_processor(text, TDIF_vectorizor):\n",
        "    words = ''\n",
        "    total_words = len(text.split(' '))\n",
        "    for word in text.split(' '):\n",
        "      words += (word + ' ') * total_words\n",
        "      total_words -= 1\n",
        "\n",
        "    words = [words[:-1]]\n",
        "    words = TDIF_vectorizor.transform(words)\n",
        "    words = words.todense()\n",
        "    words = words.tolist()\n",
        "    return words\n",
        "\n",
        "  @staticmethod\n",
        "  def similarity_checker(vector_1, vector_2):\n",
        "    vectors = [vector_1, vector_2]\n",
        "    for vec in vectors:\n",
        "      if np.ndim(vec) == 1:\n",
        "        vec = np.expand_dims(vec, axis=0)\n",
        "    return cosine_similarity([vector_1], vector_2)\n",
        "\n",
        "  @staticmethod\n",
        "  def recommender(vector_file_list,query_vector, file_dict):\n",
        "    similarity_list = []\n",
        "    score_dict = dict()\n",
        "    for i,file_vector in enumerate(vector_file_list):\n",
        "      x = dataprocessor.similarity_checker(file_vector, query_vector)\n",
        "      score_dict[file_dict[i][1]] = (x[0][0])\n",
        "      similarity_list.append(x)\n",
        "    similarity_list = sorted(similarity_list, reverse = True)\n",
        "    #Recommends the top 20%\n",
        "    recommended = sorted(score_dict.items(), \n",
        "                  key=lambda x:-x[1])[:int(np.round(.5*len(similarity_list)))]\n",
        "  \n",
        "    final_recommendation = []\n",
        "    for i in range(len(recommended)):\n",
        "      final_recommendation.append(recommended[i][0])\n",
        "    #add in graph for greater than 3 recommendationa\n",
        "    return final_recommendation, similarity_list[:len(final_recommendation)]\n",
        "\n",
        "  @staticmethod\n",
        "  def ranker(recommendation_val, file_vec_dict):\n",
        "    my_graph = nx.Graph()\n",
        "    for i in range(len(recommendation_val)):\n",
        "      file_1 = recommendation_val[i]\n",
        "      for j in range(len(recommendation_val)):\n",
        "        file_2 = recommendation_val[j]\n",
        "\n",
        "        if i != j:\n",
        "          #Calculate sim_score between two values (weight)\n",
        "          edge_dist = cosine_similarity([file_vec_dict[recommendation_val[i]]],[file_vec_dict[recommendation_val[j]]])\n",
        "          #add an edge from file 1 to file 2 with the weight \n",
        "          my_graph.add_edge(file_1, file_2, weight=edge_dist)\n",
        "\n",
        "    #Pagerank the graph  ]    \n",
        "    rec = nx.eigenvector_centrality(my_graph)\n",
        "    #Takes 20% of the values\n",
        "    ec_recommended = sorted(rec.items(), key=lambda x:-x[1])[:int(np.round(len(rec)))]\n",
        "\n",
        "    return ec_recommended\n",
        "\n",
        "  @staticmethod\n",
        "  def weighted_final_rank(sim_list,ec_recommended,final_recommendation):\n",
        "    final_dict = dict()\n",
        "\n",
        "    for i in range(len(sim_list)):\n",
        "      val = (.8*sim_list[final_recommendation.index(ec_recommendation[i][0])].squeeze()) + (.2 * ec_recommendation[i][1])\n",
        "      final_dict[ec_recommendation[i][0]] = val\n",
        "\n",
        "    weighted_final_recommend = sorted(final_dict.items(), key=lambda x:-x[1])[:int(np.round(len(final_dict)))]\n",
        "\n",
        "    return weighted_final_recommend\n",
        "\n",
        "path = '/content/drive/MyDrive/database/'\n",
        "db = [f for f in glob.glob(path + '*')]\n",
        "research_documents, file_dictionary = dataprocessor.data_reader(db)\n",
        "list_files, vectorizer, file_vec_dict = dataprocessor.database_processor(file_dictionary,research_documents)\n",
        "query = 'Machine Learning'\n",
        "query = dataprocessor.preprocess(query)\n",
        "query = dataprocessor.input_processor(query, vectorizer)\n",
        "recommendation, sim_list = dataprocessor.recommender(list_files,query, file_dictionary)\n",
        "print(\"LIF\",list_files)\n",
        "print(\"QU\",query)\n",
        "print(\"filed\",file_dictionary)\n",
        "print(\"R=\",len(recommendation))\n",
        "print(\"FV=\",len(file_vec_dict))\n",
        "ec_recommendation = dataprocessor.ranker(recommendation, file_vec_dict)\n",
        "final_weighted_recommended = dataprocessor.weighted_final_rank(sim_list,ec_recommendation,  recommendation)\n",
        "print(final_weighted_recommended)\n",
        "# print(recommendation)"
      ],
      "metadata": {
        "id": "q46wzYzDgo_J",
        "colab": {
          "base_uri": "https://localhost:8080/"
        },
        "outputId": "ce510a6d-4f58-45f7-8093-b2a82c163a97"
      },
      "execution_count": 54,
      "outputs": [
        {
          "output_type": "stream",
          "name": "stdout",
          "text": [
            "LIF [[0.0022943928279492124, 0.0022943928279492124, 0.0022943928279492124, 0.0022943928279492124, 0.0022943928279492124, 0.0022943928279492124, 0.0022943928279492124, 0.0022943928279492124, 0.0022943928279492124, 0.004588785655898425, 0.004588785655898425, 0.0022943928279492124, 0.0022943928279492124, 0.0022943928279492124, 0.0022943928279492124, 0.0022943928279492124, 0.0022943928279492124, 0.004588785655898425, 0.0022943928279492124, 0.0022943928279492124, 0.0022943928279492124, 0.0022943928279492124, 0.0022943928279492124, 0.004588785655898425, 0.004588785655898425, 0.0022943928279492124, 0.0022943928279492124, 0.06653739201052716, 0.0068831784838476375, 0.0022943928279492124, 0.004588785655898425, 0.0068831784838476375, 0.0022943928279492124, 0.0022943928279492124, 0.0022943928279492124, 0.0022943928279492124, 0.0022943928279492124, 0.0022943928279492124, 0.0022943928279492124, 0.0022943928279492124, 0.0022943928279492124, 0.0022943928279492124, 0.0022943928279492124, 0.0022943928279492124, 0.0022943928279492124, 0.004588785655898425, 0.0022943928279492124, 0.0068831784838476375, 0.02753271393539055, 0.0022943928279492124, 0.0022943928279492124, 0.0022943928279492124, 0.0022943928279492124, 0.0022943928279492124, 0.0022943928279492124, 0.0022943928279492124, 0.0022943928279492124, 0.0022943928279492124, 0.0022943928279492124, 0.0022943928279492124, 0.0022943928279492124, 0.0022943928279492124, 0.0022943928279492124, 0.0022943928279492124, 0.0022943928279492124, 0.0022943928279492124, 0.0022943928279492124, 0.0022943928279492124, 0.0022943928279492124, 0.0022943928279492124, 0.0022943928279492124, 0.0022943928279492124, 0.0022943928279492124, 0.0022943928279492124, 0.0022943928279492124, 0.0022943928279492124, 0.0022943928279492124, 0.0022943928279492124, 0.0022943928279492124, 0.0022943928279492124, 0.0022943928279492124, 0.0022943928279492124, 0.0022943928279492124, 0.0022943928279492124, 0.0022943928279492124, 0.0022943928279492124, 0.0022943928279492124, 0.004588785655898425, 0.0022943928279492124, 0.004588785655898425, 0.0022943928279492124, 0.0022943928279492124, 0.0022943928279492124, 0.0022943928279492124, 0.0022943928279492124, 0.0022943928279492124, 0.00917757131179685, 0.0068831784838476375, 0.0022943928279492124, 0.011471964139746061, 0.00917757131179685, 0.0022943928279492124, 0.0022943928279492124, 0.004588785655898425, 0.0022943928279492124, 0.0022943928279492124, 0.0022943928279492124, 0.0022943928279492124, 0.013766356967695275, 0.0022943928279492124, 0.004588785655898425, 0.0068831784838476375, 0.0022943928279492124, 0.0022943928279492124, 0.00917757131179685, 0.013766356967695275, 0.0022943928279492124, 0.00917757131179685, 0.004588785655898425, 0.013766356967695275, 0.00917757131179685, 0.0022943928279492124, 0.02064953545154291, 0.0068831784838476375, 0.004588785655898425, 0.004588785655898425, 0.07112617766642558, 0.0022943928279492124, 0.00917757131179685, 0.011471964139746061, 0.016060749795644487, 0.004588785655898425, 0.004588785655898425, 0.004588785655898425, 0.004588785655898425, 0.0022943928279492124, 0.029827106763339762, 0.0022943928279492124, 0.0367102852471874, 0.0022943928279492124, 0.0022943928279492124, 0.0022943928279492124, 0.0022943928279492124, 0.0022943928279492124, 0.0022943928279492124, 0.0022943928279492124, 0.0022943928279492124, 0.00917757131179685, 0.0022943928279492124, 0.011471964139746061, 0.004588785655898425, 0.3143318174290421, 0.0022943928279492124, 0.0022943928279492124, 0.0022943928279492124, 0.04359346373103504, 0.0022943928279492124, 0.025238321107441335, 0.00917757131179685, 0.10095328442976534, 0.0183551426235937, 0.0022943928279492124, 0.025238321107441335, 0.02064953545154291, 0.0022943928279492124, 0.004588785655898425, 0.0022943928279492124, 0.0022943928279492124, 0.0022943928279492124, 0.0022943928279492124, 0.06424299918257795, 0.0022943928279492124, 0.011471964139746061, 0.0022943928279492124, 0.013766356967695275, 0.004588785655898425, 0.0022943928279492124, 0.0022943928279492124, 0.0022943928279492124, 0.02064953545154291, 0.0022943928279492124, 0.0022943928279492124, 0.0022943928279492124, 0.0068831784838476375, 0.013766356967695275, 0.0068831784838476375, 0.004588785655898425, 0.0022943928279492124, 0.0022943928279492124, 0.004588785655898425, 0.004588785655898425, 0.02753271393539055, 0.0022943928279492124, 0.0022943928279492124, 0.016060749795644487, 0.02064953545154291, 0.00917757131179685, 0.0022943928279492124, 0.02753271393539055, 0.004588785655898425, 0.0022943928279492124, 0.004588785655898425, 0.00917757131179685, 0.0022943928279492124, 0.0022943928279492124, 0.0022943928279492124, 0.013766356967695275, 0.0068831784838476375, 0.00917757131179685, 0.004588785655898425, 0.0022943928279492124, 0.016060749795644487, 0.0022943928279492124, 0.0022943928279492124, 0.004588785655898425, 0.0022943928279492124, 0.004588785655898425, 0.022943928279492123, 0.00917757131179685, 0.0022943928279492124, 0.02064953545154291, 0.016060749795644487, 0.0022943928279492124, 0.0022943928279492124, 0.0022943928279492124, 0.0022943928279492124, 0.0022943928279492124, 0.0022943928279492124, 0.0022943928279492124, 0.0022943928279492124, 0.0022943928279492124, 0.0022943928279492124, 0.0068831784838476375, 0.05735982069873031, 0.0068831784838476375, 0.0068831784838476375, 0.04359346373103504, 0.0022943928279492124, 0.0022943928279492124, 0.00917757131179685, 0.0022943928279492124, 0.0022943928279492124, 0.0068831784838476375, 0.0183551426235937, 0.0022943928279492124, 0.011471964139746061, 0.0022943928279492124, 0.00917757131179685, 0.0022943928279492124, 0.0022943928279492124, 0.011471964139746061, 0.011471964139746061, 0.0022943928279492124, 0.0022943928279492124, 0.004588785655898425, 0.004588785655898425, 0.004588785655898425, 0.004588785655898425, 0.0022943928279492124, 0.0022943928279492124, 0.00917757131179685, 0.0068831784838476375, 0.0022943928279492124, 0.0022943928279492124, 0.00917757131179685, 0.0022943928279492124, 0.0068831784838476375, 0.03900467807513661, 0.025238321107441335, 0.0022943928279492124, 0.0022943928279492124, 0.0022943928279492124, 0.0022943928279492124, 0.0022943928279492124, 0.004588785655898425, 0.013766356967695275, 0.0022943928279492124, 0.0022943928279492124, 0.0022943928279492124, 0.0022943928279492124, 0.0022943928279492124, 0.011471964139746061, 0.08259814180617164, 0.016060749795644487, 0.011471964139746061, 0.00917757131179685, 0.00917757131179685, 0.0022943928279492124, 0.004588785655898425, 0.0022943928279492124, 0.004588785655898425, 0.004588785655898425, 0.00917757131179685, 0.0022943928279492124, 0.004588785655898425, 0.0022943928279492124, 0.0068831784838476375, 0.004588785655898425, 0.0022943928279492124, 0.0022943928279492124, 0.011471964139746061, 0.029827106763339762, 0.0022943928279492124, 0.0022943928279492124, 0.0022943928279492124, 0.004588785655898425, 0.13995796250490194, 0.0068831784838476375, 0.0022943928279492124, 0.0022943928279492124, 0.00917757131179685, 0.0022943928279492124, 0.04818224938693346, 0.0022943928279492124, 0.0022943928279492124, 0.0022943928279492124, 0.0022943928279492124, 0.0022943928279492124, 0.0022943928279492124, 0.0022943928279492124, 0.0068831784838476375, 0.011471964139746061, 0.004588785655898425, 0.00917757131179685, 0.0022943928279492124, 0.0022943928279492124, 0.0022943928279492124, 0.0022943928279492124, 0.004588785655898425, 0.011471964139746061, 0.0022943928279492124, 0.0022943928279492124, 0.0022943928279492124, 0.0022943928279492124, 0.0068831784838476375, 0.00917757131179685, 0.0550654278707811, 0.0022943928279492124, 0.011471964139746061, 0.0022943928279492124, 0.00917757131179685, 0.0022943928279492124, 0.004588785655898425, 0.00917757131179685, 0.0022943928279492124, 0.0022943928279492124, 0.004588785655898425, 0.0022943928279492124, 0.032121499591288974, 0.0022943928279492124, 0.00917757131179685, 0.0022943928279492124, 0.0022943928279492124, 0.0022943928279492124, 0.0022943928279492124, 0.0022943928279492124, 0.0022943928279492124, 0.0022943928279492124, 0.016060749795644487, 0.0022943928279492124, 0.0022943928279492124, 0.0022943928279492124, 0.013766356967695275, 0.0022943928279492124, 0.0022943928279492124, 0.06194860635462873, 0.0022943928279492124, 0.0022943928279492124, 0.02064953545154291, 0.032121499591288974, 0.0022943928279492124, 0.0068831784838476375, 0.0068831784838476375, 0.0068831784838476375, 0.011471964139746061, 0.004588785655898425, 0.0068831784838476375, 0.0022943928279492124, 0.0022943928279492124, 0.0022943928279492124, 0.0183551426235937, 0.004588785655898425, 0.013766356967695275, 0.025238321107441335, 0.00917757131179685, 0.0022943928279492124, 0.0068831784838476375, 0.004588785655898425, 0.013766356967695275, 0.004588785655898425, 0.00917757131179685, 0.0022943928279492124, 0.02753271393539055, 0.004588785655898425, 0.0022943928279492124, 0.016060749795644487, 0.016060749795644487, 0.00917757131179685, 0.0068831784838476375, 0.004588785655898425, 0.0022943928279492124, 0.0022943928279492124, 0.00917757131179685, 0.0022943928279492124, 0.013766356967695275, 0.0022943928279492124, 0.004588785655898425, 0.0183551426235937, 0.016060749795644487, 0.004588785655898425, 0.0022943928279492124, 0.0022943928279492124, 0.0022943928279492124, 0.00917757131179685, 0.0068831784838476375, 0.0022943928279492124, 0.004588785655898425, 0.04129907090308582, 0.011471964139746061, 0.0022943928279492124, 0.059654213526679524, 0.0022943928279492124, 0.0022943928279492124, 0.0022943928279492124, 0.0022943928279492124, 0.004588785655898425, 0.0068831784838476375, 0.004588785655898425, 0.0022943928279492124, 0.08030374897822243, 0.013766356967695275, 0.0022943928279492124, 0.0022943928279492124, 0.011471964139746061, 0.0022943928279492124, 0.0022943928279492124, 0.0022943928279492124, 0.016060749795644487, 0.013766356967695275, 0.02064953545154291, 0.0022943928279492124, 0.0022943928279492124, 0.004588785655898425, 0.004588785655898425, 0.0022943928279492124, 0.0022943928279492124, 0.016060749795644487, 0.0022943928279492124, 0.0022943928279492124, 0.0022943928279492124, 0.011471964139746061, 0.004588785655898425, 0.0022943928279492124, 0.004588785655898425, 0.0068831784838476375, 0.0022943928279492124, 0.0022943928279492124, 0.0022943928279492124, 0.0068831784838476375, 0.032121499591288974, 0.0022943928279492124, 0.0022943928279492124, 0.0022943928279492124, 0.0022943928279492124, 0.0022943928279492124, 0.0022943928279492124, 0.004588785655898425, 0.004588785655898425, 0.011471964139746061, 0.00917757131179685, 0.004588785655898425, 0.0022943928279492124, 0.00917757131179685, 0.004588785655898425, 0.00917757131179685, 0.0022943928279492124, 0.0022943928279492124, 0.004588785655898425, 0.0068831784838476375, 0.0022943928279492124, 0.0022943928279492124, 0.004588785655898425, 0.0068831784838476375, 0.0183551426235937, 0.004588785655898425, 0.19043460471978463, 0.0022943928279492124, 0.05735982069873031, 0.04359346373103504, 0.004588785655898425, 0.004588785655898425, 0.0183551426235937, 0.013766356967695275, 0.004588785655898425, 0.004588785655898425, 0.00917757131179685, 0.0068831784838476375, 0.004588785655898425, 0.004588785655898425, 0.0022943928279492124, 0.0022943928279492124, 0.00917757131179685, 0.032121499591288974, 0.0022943928279492124, 0.004588785655898425, 0.0022943928279492124, 0.0367102852471874, 0.0022943928279492124, 0.0022943928279492124, 0.02753271393539055, 0.013766356967695275, 0.0022943928279492124, 0.011471964139746061, 0.0022943928279492124, 0.004588785655898425, 0.0022943928279492124, 0.004588785655898425, 0.0068831784838476375, 0.00917757131179685, 0.0022943928279492124, 0.00917757131179685, 0.011471964139746061, 0.0068831784838476375, 0.0022943928279492124, 0.00917757131179685, 0.0022943928279492124, 0.0022943928279492124, 0.022943928279492123, 0.00917757131179685, 0.0022943928279492124, 0.0022943928279492124, 0.0022943928279492124, 0.032121499591288974, 0.0068831784838476375, 0.004588785655898425, 0.004588785655898425, 0.0022943928279492124, 0.0022943928279492124, 0.0022943928279492124, 0.0068831784838476375, 0.0022943928279492124, 0.07112617766642558, 0.0022943928279492124, 0.011471964139746061, 0.0022943928279492124, 0.013766356967695275, 0.013766356967695275, 0.004588785655898425, 0.013766356967695275, 0.00917757131179685, 0.02064953545154291, 0.004588785655898425, 0.0068831784838476375, 0.0022943928279492124, 0.0022943928279492124, 0.02064953545154291, 0.029827106763339762, 0.0022943928279492124, 0.0022943928279492124, 0.004588785655898425, 0.0022943928279492124, 0.0022943928279492124, 0.0022943928279492124, 0.004588785655898425, 0.0022943928279492124, 0.0068831784838476375, 0.0022943928279492124, 0.0022943928279492124, 0.004588785655898425, 0.0022943928279492124, 0.00917757131179685, 0.016060749795644487, 0.0022943928279492124, 0.004588785655898425, 0.0022943928279492124, 0.004588785655898425, 0.0022943928279492124, 0.0550654278707811, 0.0183551426235937, 0.016060749795644487, 0.032121499591288974, 0.0022943928279492124, 0.004588785655898425, 0.004588785655898425, 0.0022943928279492124, 0.00917757131179685, 0.0022943928279492124, 0.013766356967695275, 0.0068831784838476375, 0.20878974734337832, 0.004588785655898425, 0.0022943928279492124, 0.0068831784838476375, 0.09177571311796849, 0.004588785655898425, 0.0022943928279492124, 0.004588785655898425, 0.016060749795644487, 0.0068831784838476375, 0.0022943928279492124, 0.0022943928279492124, 0.3487477098482803, 0.0022943928279492124, 0.0022943928279492124, 0.004588785655898425, 0.0022943928279492124, 0.004588785655898425, 0.0022943928279492124, 0.0022943928279492124, 0.004588785655898425, 0.0022943928279492124, 0.0022943928279492124, 0.0022943928279492124, 0.0022943928279492124, 0.004588785655898425, 0.004588785655898425, 0.0022943928279492124, 0.004588785655898425, 0.00917757131179685, 0.004588785655898425, 0.0022943928279492124, 0.0022943928279492124, 0.004588785655898425, 0.0022943928279492124, 0.011471964139746061, 0.004588785655898425, 0.0068831784838476375, 0.0183551426235937, 0.004588785655898425, 0.0022943928279492124, 0.004588785655898425, 0.011471964139746061, 0.004588785655898425, 0.0022943928279492124, 0.0068831784838476375, 0.0022943928279492124, 0.0022943928279492124, 0.0022943928279492124, 0.0068831784838476375, 0.0022943928279492124, 0.004588785655898425, 0.0022943928279492124, 0.004588785655898425, 0.016060749795644487, 0.0022943928279492124, 0.0068831784838476375, 0.0022943928279492124, 0.0022943928279492124, 0.0022943928279492124, 0.0022943928279492124, 0.0367102852471874, 0.00917757131179685, 0.0068831784838476375, 0.0022943928279492124, 0.0022943928279492124, 0.0022943928279492124, 0.004588785655898425, 0.0022943928279492124, 0.0022943928279492124, 0.004588785655898425, 0.004588785655898425, 0.022943928279492123, 0.052771035042831885, 0.004588785655898425, 0.00917757131179685, 0.0022943928279492124, 0.004588785655898425, 0.0022943928279492124, 0.02753271393539055, 0.0022943928279492124, 0.07571496332232401, 0.004588785655898425, 0.0022943928279492124, 0.0022943928279492124, 0.0022943928279492124, 0.004588785655898425, 0.3143318174290421, 0.004588785655898425, 0.0022943928279492124, 0.004588785655898425, 0.0022943928279492124, 0.011471964139746061, 0.004588785655898425, 0.0022943928279492124, 0.0022943928279492124, 0.022943928279492123, 0.004588785655898425, 0.0022943928279492124, 0.00917757131179685, 0.05047664221488267, 0.0022943928279492124, 0.0022943928279492124, 0.0022943928279492124, 0.013766356967695275, 0.0068831784838476375, 0.004588785655898425, 0.0022943928279492124, 0.0068831784838476375, 0.004588785655898425, 0.0022943928279492124, 0.02064953545154291, 0.016060749795644487, 0.0022943928279492124, 0.011471964139746061, 0.0068831784838476375, 0.0022943928279492124, 0.004588785655898425, 0.0022943928279492124, 0.0068831784838476375, 0.0183551426235937, 0.0022943928279492124, 0.025238321107441335, 0.0022943928279492124, 0.0068831784838476375, 0.029827106763339762, 0.0068831784838476375, 0.013766356967695275, 0.00917757131179685, 0.0022943928279492124, 0.0022943928279492124, 0.032121499591288974, 0.00917757131179685, 0.0022943928279492124, 0.004588785655898425, 0.0022943928279492124, 0.0022943928279492124, 0.0022943928279492124, 0.0022943928279492124, 0.0022943928279492124, 0.0068831784838476375, 0.00917757131179685, 0.0022943928279492124, 0.004588785655898425, 0.08948132029001929, 0.0022943928279492124, 0.0022943928279492124, 0.0022943928279492124, 0.0022943928279492124, 0.0022943928279492124, 0.0022943928279492124, 0.0022943928279492124, 0.0022943928279492124, 0.004588785655898425, 0.0022943928279492124, 0.0022943928279492124, 0.025238321107441335, 0.0068831784838476375, 0.013766356967695275, 0.00917757131179685, 0.0022943928279492124, 0.004588785655898425, 0.004588785655898425, 0.045887856558984245, 0.011471964139746061, 0.004588785655898425, 0.0022943928279492124, 0.0022943928279492124, 0.0183551426235937, 0.004588785655898425, 0.1101308557415622, 0.004588785655898425, 0.0022943928279492124, 0.0022943928279492124, 0.0022943928279492124, 0.011471964139746061, 0.0022943928279492124, 0.004588785655898425, 0.0022943928279492124, 0.0022943928279492124, 0.004588785655898425, 0.0022943928279492124, 0.0022943928279492124, 0.011471964139746061, 0.0022943928279492124, 0.0022943928279492124, 0.011471964139746061, 0.0068831784838476375, 0.0022943928279492124, 0.004588785655898425, 0.016060749795644487, 0.0022943928279492124, 0.0022943928279492124, 0.0068831784838476375, 0.00917757131179685, 0.0022943928279492124, 0.0022943928279492124, 0.04129907090308582, 0.004588785655898425, 0.0022943928279492124, 0.0022943928279492124, 0.0022943928279492124, 0.0022943928279492124, 0.00917757131179685, 0.0068831784838476375, 0.03441589241923818, 0.04129907090308582, 0.0068831784838476375, 0.0022943928279492124, 0.0068831784838476375, 0.0022943928279492124, 0.0022943928279492124, 0.0022943928279492124, 0.0022943928279492124, 0.00917757131179685, 0.0022943928279492124, 0.029827106763339762, 0.0022943928279492124, 0.0022943928279492124, 0.0022943928279492124, 0.0022943928279492124, 0.08718692746207007, 0.013766356967695275, 0.029827106763339762, 0.016060749795644487, 0.0022943928279492124, 0.0068831784838476375, 0.004588785655898425, 0.0022943928279492124, 0.016060749795644487, 0.0022943928279492124, 0.0022943928279492124, 0.0022943928279492124, 0.0022943928279492124, 0.0022943928279492124, 0.0022943928279492124, 0.06194860635462873, 0.0022943928279492124, 0.0022943928279492124, 0.0068831784838476375, 0.0022943928279492124, 0.011471964139746061, 0.0022943928279492124, 0.004588785655898425, 0.0068831784838476375, 0.0022943928279492124, 0.004588785655898425, 0.0022943928279492124, 0.0022943928279492124, 0.02064953545154291, 0.004588785655898425, 0.0022943928279492124, 0.0022943928279492124, 0.0022943928279492124, 0.0022943928279492124, 0.004588785655898425, 0.004588785655898425, 0.0022943928279492124, 0.0022943928279492124, 0.0022943928279492124, 0.0022943928279492124, 0.0022943928279492124, 0.0068831784838476375, 0.0022943928279492124, 0.0022943928279492124, 0.004588785655898425, 0.0022943928279492124, 0.004588785655898425, 0.004588785655898425, 0.0183551426235937, 0.004588785655898425, 0.004588785655898425, 0.0183551426235937, 0.004588785655898425, 0.0068831784838476375, 0.0022943928279492124, 0.0022943928279492124, 0.0068831784838476375, 0.0022943928279492124, 0.004588785655898425, 0.0022943928279492124, 0.004588785655898425, 0.004588785655898425, 0.0022943928279492124, 0.04359346373103504, 0.0022943928279492124, 0.0022943928279492124, 0.0022943928279492124, 0.0022943928279492124, 0.0022943928279492124, 0.0022943928279492124, 0.025238321107441335, 0.0022943928279492124, 0.0022943928279492124, 0.004588785655898425, 0.00917757131179685, 0.0022943928279492124, 0.004588785655898425, 0.0022943928279492124, 0.032121499591288974, 0.004588785655898425, 0.0068831784838476375, 0.0068831784838476375, 0.0022943928279492124, 0.004588785655898425, 0.004588785655898425, 0.0022943928279492124, 0.0022943928279492124, 0.045887856558984245, 0.0022943928279492124, 0.0022943928279492124, 0.0022943928279492124, 0.0022943928279492124, 0.0022943928279492124, 0.0022943928279492124, 0.0022943928279492124, 0.0022943928279492124, 0.0068831784838476375, 0.0022943928279492124, 0.0022943928279492124, 0.0022943928279492124, 0.0022943928279492124, 0.0022943928279492124, 0.0022943928279492124, 0.0022943928279492124, 0.0022943928279492124, 0.0022943928279492124, 0.0022943928279492124, 0.0022943928279492124, 0.004588785655898425, 0.0022943928279492124, 0.013766356967695275, 0.016060749795644487, 0.0022943928279492124, 0.00917757131179685, 0.004588785655898425, 0.0022943928279492124, 0.0022943928279492124, 0.004588785655898425, 0.0022943928279492124, 0.0022943928279492124, 0.004588785655898425, 0.004588785655898425, 0.0022943928279492124, 0.08030374897822243, 0.09636449877386692, 0.0022943928279492124, 0.02064953545154291, 0.004588785655898425, 0.004588785655898425, 0.025238321107441335, 0.0022943928279492124, 0.0022943928279492124, 0.0022943928279492124, 0.004588785655898425, 0.0022943928279492124, 0.0022943928279492124, 0.004588785655898425, 0.0022943928279492124, 0.0022943928279492124, 0.0022943928279492124, 0.0068831784838476375, 0.02753271393539055, 0.004588785655898425, 0.0022943928279492124, 0.0068831784838476375, 0.0022943928279492124, 0.0022943928279492124, 0.004588785655898425, 0.0022943928279492124, 0.004588785655898425, 0.004588785655898425, 0.04359346373103504, 0.013766356967695275, 0.0022943928279492124, 0.0068831784838476375, 0.004588785655898425, 0.0022943928279492124, 0.029827106763339762, 0.00917757131179685, 0.02753271393539055, 0.0022943928279492124, 0.00917757131179685, 0.004588785655898425, 0.0022943928279492124, 0.0022943928279492124, 0.0022943928279492124, 0.0022943928279492124, 0.0022943928279492124, 0.07112617766642558, 0.00917757131179685, 0.0022943928279492124, 0.0022943928279492124, 0.0022943928279492124, 0.004588785655898425, 0.0022943928279492124, 0.0022943928279492124, 0.00917757131179685, 0.029827106763339762, 0.0022943928279492124, 0.0022943928279492124, 0.0022943928279492124, 0.0022943928279492124, 0.0022943928279492124, 0.013766356967695275, 0.02753271393539055, 0.0068831784838476375, 0.0022943928279492124, 0.0022943928279492124, 0.0068831784838476375, 0.00917757131179685, 0.0022943928279492124, 0.004588785655898425, 0.0183551426235937, 0.0022943928279492124, 0.004588785655898425, 0.029827106763339762, 0.0022943928279492124, 0.0022943928279492124, 0.0022943928279492124, 0.00917757131179685, 0.004588785655898425, 0.0022943928279492124, 0.00917757131179685, 0.0022943928279492124, 0.08030374897822243, 0.0022943928279492124, 0.0022943928279492124, 0.04818224938693346, 0.013766356967695275, 0.011471964139746061, 0.004588785655898425, 0.0022943928279492124, 0.0068831784838476375, 0.016060749795644487, 0.0022943928279492124, 0.0022943928279492124, 0.0022943928279492124, 0.02064953545154291, 0.0022943928279492124, 0.004588785655898425, 0.025238321107441335, 0.0022943928279492124, 0.0022943928279492124, 0.03900467807513661, 0.011471964139746061, 0.025238321107441335, 0.016060749795644487, 0.0022943928279492124, 0.004588785655898425, 0.0022943928279492124, 0.0068831784838476375, 0.011471964139746061, 0.00917757131179685, 0.0022943928279492124, 0.0022943928279492124, 0.0022943928279492124, 0.0022943928279492124, 0.0068831784838476375, 0.0068831784838476375, 0.0022943928279492124, 0.0022943928279492124, 0.0022943928279492124, 0.0022943928279492124, 0.0022943928279492124, 0.00917757131179685, 0.0022943928279492124, 0.0022943928279492124, 0.0022943928279492124, 0.0022943928279492124, 0.0022943928279492124, 0.0022943928279492124, 0.0022943928279492124, 0.004588785655898425, 0.00917757131179685, 0.016060749795644487, 0.004588785655898425, 0.0022943928279492124, 0.004588785655898425, 0.0022943928279492124, 0.0022943928279492124, 0.0022943928279492124, 0.0022943928279492124, 0.0022943928279492124, 0.0022943928279492124, 0.0022943928279492124, 0.0022943928279492124, 0.004588785655898425, 0.0022943928279492124, 0.0022943928279492124, 0.0068831784838476375, 0.004588785655898425, 0.0022943928279492124, 0.011471964139746061, 0.02753271393539055, 0.0022943928279492124, 0.0068831784838476375, 0.004588785655898425, 0.0022943928279492124, 0.0068831784838476375, 0.0022943928279492124, 0.0022943928279492124, 0.0022943928279492124, 0.00917757131179685, 0.0022943928279492124, 0.0022943928279492124, 0.0022943928279492124, 0.0022943928279492124, 0.00917757131179685, 0.0022943928279492124, 0.0022943928279492124, 0.0022943928279492124, 0.0022943928279492124, 0.016060749795644487, 0.0022943928279492124, 0.011471964139746061, 0.0022943928279492124, 0.0022943928279492124, 0.004588785655898425, 0.0022943928279492124, 0.0022943928279492124, 0.0022943928279492124, 0.004588785655898425, 0.013766356967695275, 0.004588785655898425, 0.0068831784838476375, 0.0022943928279492124, 0.0022943928279492124, 0.004588785655898425, 0.004588785655898425, 0.0022943928279492124, 0.0022943928279492124, 0.0068831784838476375, 0.0022943928279492124, 0.004588785655898425, 0.004588785655898425, 0.0022943928279492124, 0.06883178483847636, 0.0022943928279492124, 0.0022943928279492124, 0.0022943928279492124, 0.0022943928279492124, 0.0367102852471874, 0.0022943928279492124, 0.0022943928279492124, 0.0022943928279492124, 0.004588785655898425, 0.016060749795644487, 0.004588785655898425, 0.0068831784838476375, 0.011471964139746061, 0.0068831784838476375, 0.0022943928279492124, 0.013766356967695275, 0.004588785655898425, 0.0068831784838476375, 0.00917757131179685, 0.18125703340798777, 0.0068831784838476375, 0.0022943928279492124, 0.0022943928279492124, 0.0022943928279492124, 0.011471964139746061, 0.00917757131179685, 0.004588785655898425, 0.004588785655898425, 0.032121499591288974, 0.04129907090308582, 0.004588785655898425, 0.0022943928279492124, 0.004588785655898425, 0.09636449877386692, 0.04359346373103504, 0.0022943928279492124, 0.0022943928279492124, 0.00917757131179685, 0.004588785655898425, 0.0022943928279492124, 0.0022943928279492124, 0.013766356967695275, 0.004588785655898425, 0.0022943928279492124, 0.0022943928279492124, 0.0022943928279492124, 0.004588785655898425, 0.02064953545154291, 0.004588785655898425, 0.0022943928279492124, 0.0022943928279492124, 0.004588785655898425, 0.004588785655898425, 0.0022943928279492124, 0.0068831784838476375, 0.0022943928279492124, 0.00917757131179685, 0.011471964139746061, 0.0022943928279492124, 0.0022943928279492124, 0.0022943928279492124, 0.0068831784838476375, 0.0068831784838476375, 0.0022943928279492124, 0.004588785655898425, 0.0022943928279492124, 0.0022943928279492124, 0.00917757131179685, 0.004588785655898425, 0.0022943928279492124, 0.004588785655898425, 0.0022943928279492124, 0.004588785655898425, 0.04818224938693346, 0.0022943928279492124, 0.02064953545154291, 0.004588785655898425, 0.00917757131179685, 0.00917757131179685, 0.02064953545154291, 0.0022943928279492124, 0.0022943928279492124, 0.025238321107441335, 0.013766356967695275, 0.0022943928279492124, 0.0022943928279492124, 0.0022943928279492124, 0.0022943928279492124, 0.0022943928279492124, 0.0022943928279492124, 0.02064953545154291, 0.0022943928279492124, 0.004588785655898425, 0.06883178483847636, 0.0022943928279492124, 0.0022943928279492124, 0.0022943928279492124, 0.03900467807513661, 0.004588785655898425, 0.02753271393539055, 0.0022943928279492124, 0.0022943928279492124, 0.004588785655898425, 0.004588785655898425, 0.016060749795644487, 0.004588785655898425, 0.004588785655898425, 0.0022943928279492124, 0.016060749795644487, 0.0022943928279492124, 0.0022943928279492124, 0.00917757131179685, 0.004588785655898425, 0.011471964139746061, 0.0022943928279492124, 0.0022943928279492124, 0.04359346373103504, 0.022943928279492123, 0.0022943928279492124, 0.00917757131179685, 0.00917757131179685, 0.0022943928279492124, 0.0183551426235937, 0.016060749795644487, 0.0022943928279492124, 0.004588785655898425, 0.07571496332232401, 0.004588785655898425, 0.0022943928279492124, 0.0022943928279492124, 0.0022943928279492124, 0.0183551426235937, 0.0022943928279492124, 0.0022943928279492124, 0.0022943928279492124, 0.0022943928279492124, 0.004588785655898425, 0.0022943928279492124, 0.0022943928279492124, 0.025238321107441335, 0.0022943928279492124, 0.0022943928279492124, 0.004588785655898425, 0.0022943928279492124, 0.0022943928279492124, 0.0367102852471874, 0.013766356967695275, 0.016060749795644487, 0.0022943928279492124, 0.0022943928279492124, 0.02753271393539055, 0.0022943928279492124, 0.0022943928279492124, 0.0183551426235937, 0.025238321107441335, 0.00917757131179685, 0.0022943928279492124, 0.0068831784838476375, 0.004588785655898425, 0.016060749795644487, 0.0022943928279492124, 0.0022943928279492124, 0.0022943928279492124, 0.004588785655898425, 0.0022943928279492124, 0.052771035042831885, 0.0022943928279492124, 0.011471964139746061, 0.00917757131179685, 0.004588785655898425, 0.004588785655898425, 0.0022943928279492124, 0.02753271393539055, 0.0022943928279492124, 0.00917757131179685, 0.0068831784838476375, 0.00917757131179685, 0.03441589241923818, 0.0022943928279492124, 0.0022943928279492124, 0.0022943928279492124, 0.0022943928279492124, 0.0022943928279492124, 0.0022943928279492124, 0.0022943928279492124, 0.0022943928279492124, 0.03441589241923818, 0.0068831784838476375, 0.013766356967695275, 0.0022943928279492124, 0.0022943928279492124, 0.0022943928279492124, 0.0022943928279492124, 0.004588785655898425, 0.02064953545154291, 0.0022943928279492124, 0.013766356967695275, 0.0022943928279492124, 0.022943928279492123, 0.004588785655898425, 0.004588785655898425, 0.0022943928279492124, 0.0022943928279492124, 0.0183551426235937, 0.0022943928279492124, 0.0022943928279492124, 0.004588785655898425, 0.0022943928279492124, 0.0022943928279492124, 0.004588785655898425, 0.004588785655898425, 0.0022943928279492124, 0.0022943928279492124, 0.0022943928279492124, 0.0068831784838476375, 0.0022943928279492124, 0.011471964139746061, 0.004588785655898425, 0.0022943928279492124, 0.004588785655898425, 0.0022943928279492124, 0.06194860635462873, 0.004588785655898425, 0.07571496332232401, 0.0022943928279492124, 0.0022943928279492124, 0.0068831784838476375, 0.03441589241923818, 0.0022943928279492124, 0.011471964139746061, 0.0068831784838476375, 0.0022943928279492124, 0.0022943928279492124, 0.0022943928279492124, 0.0022943928279492124, 0.0022943928279492124, 0.0022943928279492124, 0.0068831784838476375, 0.0022943928279492124, 0.0022943928279492124, 0.0022943928279492124, 0.0022943928279492124, 0.0022943928279492124, 0.0022943928279492124, 0.0022943928279492124, 0.0022943928279492124, 0.05735982069873031, 0.0022943928279492124, 0.0022943928279492124, 0.0068831784838476375, 0.022943928279492123, 0.0022943928279492124, 0.0550654278707811, 0.0183551426235937, 0.0022943928279492124, 0.0068831784838476375, 0.016060749795644487, 0.0022943928279492124, 0.0022943928279492124, 0.0022943928279492124, 0.0022943928279492124, 0.02753271393539055, 0.0068831784838476375, 0.0022943928279492124, 0.0068831784838476375, 0.0367102852471874, 0.0022943928279492124, 0.0022943928279492124, 0.011471964139746061, 0.0022943928279492124, 0.0022943928279492124, 0.0022943928279492124, 0.00917757131179685, 0.0022943928279492124, 0.0022943928279492124, 0.00917757131179685, 0.0022943928279492124, 0.0068831784838476375, 0.0022943928279492124, 0.0022943928279492124, 0.0022943928279492124, 0.04129907090308582, 0.0068831784838476375, 0.004588785655898425, 0.0022943928279492124, 0.0022943928279492124, 0.0022943928279492124, 0.0068831784838476375, 0.0022943928279492124, 0.0022943928279492124, 0.0022943928279492124, 0.0068831784838476375, 0.0022943928279492124, 0.0550654278707811, 0.00917757131179685, 0.00917757131179685, 0.0022943928279492124, 0.0022943928279492124, 0.0022943928279492124, 0.004588785655898425, 0.0022943928279492124, 0.0022943928279492124, 0.0022943928279492124, 0.0022943928279492124, 0.022943928279492123, 0.0022943928279492124, 0.0183551426235937, 0.004588785655898425, 0.004588785655898425, 0.0022943928279492124, 0.0068831784838476375, 0.0022943928279492124, 0.0022943928279492124, 0.04359346373103504, 0.0022943928279492124, 0.0068831784838476375, 0.0022943928279492124, 0.0022943928279492124, 0.013766356967695275, 0.0022943928279492124, 0.004588785655898425, 0.0022943928279492124, 0.016060749795644487, 0.0022943928279492124, 0.004588785655898425, 0.0068831784838476375, 0.00917757131179685, 0.02753271393539055, 0.0022943928279492124, 0.00917757131179685, 0.013766356967695275, 0.004588785655898425, 0.0022943928279492124, 0.0022943928279492124, 0.0022943928279492124, 0.011471964139746061, 0.004588785655898425, 0.0022943928279492124, 0.0022943928279492124, 0.0022943928279492124, 0.004588785655898425, 0.0022943928279492124, 0.0022943928279492124, 0.004588785655898425, 0.00917757131179685, 0.0022943928279492124, 0.0022943928279492124, 0.0022943928279492124, 0.0022943928279492124, 0.0022943928279492124, 0.011471964139746061, 0.0367102852471874, 0.0022943928279492124, 0.0022943928279492124, 0.0022943928279492124, 0.0022943928279492124, 0.0022943928279492124, 0.0022943928279492124, 0.004588785655898425, 0.0068831784838476375, 0.004588785655898425, 0.06424299918257795, 0.0068831784838476375, 0.00917757131179685, 0.00917757131179685, 0.0022943928279492124, 0.0068831784838476375, 0.0022943928279492124, 0.0022943928279492124, 0.0022943928279492124, 0.0022943928279492124, 0.0022943928279492124, 0.0022943928279492124, 0.0022943928279492124, 0.016060749795644487, 0.0022943928279492124, 0.0022943928279492124, 0.0022943928279492124, 0.004588785655898425, 0.02753271393539055, 0.0022943928279492124, 0.0022943928279492124, 0.0022943928279492124, 0.0068831784838476375, 0.004588785655898425, 0.0022943928279492124, 0.0022943928279492124, 0.0183551426235937, 0.0022943928279492124, 0.004588785655898425, 0.016060749795644487, 0.04359346373103504, 0.00917757131179685, 0.022943928279492123, 0.013766356967695275, 0.029827106763339762, 0.016060749795644487, 0.011471964139746061, 0.004588785655898425, 0.0022943928279492124, 0.0022943928279492124, 0.07112617766642558, 0.045887856558984245, 0.0022943928279492124, 0.00917757131179685, 0.05047664221488267, 0.0022943928279492124, 0.0022943928279492124, 0.052771035042831885, 0.0022943928279492124, 0.00917757131179685, 0.0734205704943748, 0.00917757131179685, 0.0183551426235937, 0.00917757131179685, 0.0022943928279492124, 0.022943928279492123, 0.00917757131179685, 0.0022943928279492124, 0.0022943928279492124, 0.00917757131179685, 0.0022943928279492124, 0.0022943928279492124, 0.013766356967695275, 0.011471964139746061, 0.0022943928279492124, 0.00917757131179685, 0.004588785655898425, 0.0022943928279492124, 0.0022943928279492124, 0.0022943928279492124, 0.0022943928279492124, 0.004588785655898425, 0.00917757131179685, 0.0068831784838476375, 0.0068831784838476375, 0.0022943928279492124, 0.0022943928279492124, 0.0022943928279492124, 0.004588785655898425, 0.0022943928279492124, 0.00917757131179685, 0.0022943928279492124, 0.0022943928279492124, 0.0022943928279492124, 0.025238321107441335, 0.0022943928279492124, 0.0022943928279492124, 0.011471964139746061, 0.0022943928279492124, 0.004588785655898425, 0.0022943928279492124, 0.0022943928279492124, 0.004588785655898425, 0.0068831784838476375, 0.0022943928279492124, 0.0022943928279492124, 0.0022943928279492124, 0.0022943928279492124, 0.0022943928279492124, 0.013766356967695275, 0.016060749795644487, 0.0022943928279492124, 0.0068831784838476375, 0.0022943928279492124, 0.02064953545154291, 0.0022943928279492124, 0.00917757131179685, 0.004588785655898425, 0.004588785655898425, 0.0022943928279492124, 0.0022943928279492124, 0.0068831784838476375, 0.0022943928279492124, 0.0068831784838476375, 0.0068831784838476375, 0.0022943928279492124, 0.016060749795644487, 0.0022943928279492124, 0.02064953545154291, 0.011471964139746061, 0.0022943928279492124, 0.0022943928279492124, 0.00917757131179685, 0.0022943928279492124, 0.004588785655898425, 0.004588785655898425, 0.011471964139746061, 0.004588785655898425, 0.013766356967695275, 0.016060749795644487, 0.0022943928279492124, 0.004588785655898425, 0.0022943928279492124, 0.0022943928279492124, 0.0022943928279492124, 0.0022943928279492124, 0.016060749795644487, 0.0022943928279492124, 0.0068831784838476375, 0.0068831784838476375, 0.0022943928279492124, 0.0022943928279492124, 0.004588785655898425, 0.0022943928279492124, 0.0068831784838476375, 0.0022943928279492124, 0.0068831784838476375, 0.011471964139746061, 0.004588785655898425, 0.0022943928279492124, 0.00917757131179685, 0.0022943928279492124, 0.00917757131179685, 0.0022943928279492124, 0.00917757131179685, 0.0022943928279492124, 0.0022943928279492124, 0.004588785655898425, 0.004588785655898425, 0.04359346373103504, 0.0022943928279492124, 0.0022943928279492124, 0.0022943928279492124, 0.0022943928279492124, 0.0068831784838476375, 0.0068831784838476375, 0.022943928279492123, 0.004588785655898425, 0.011471964139746061, 0.004588785655898425, 0.004588785655898425, 0.0022943928279492124, 0.0022943928279492124, 0.016060749795644487, 0.0022943928279492124, 0.0068831784838476375, 0.004588785655898425, 0.013766356967695275, 0.0022943928279492124, 0.004588785655898425, 0.004588785655898425, 0.004588785655898425, 0.10783646291361298, 0.0022943928279492124, 0.0022943928279492124, 0.004588785655898425, 0.0022943928279492124, 0.0022943928279492124, 0.004588785655898425, 0.0022943928279492124, 0.004588785655898425, 0.0022943928279492124, 0.0022943928279492124, 0.0022943928279492124, 0.0022943928279492124, 0.0022943928279492124, 0.0022943928279492124, 0.00917757131179685, 0.0022943928279492124, 0.0022943928279492124, 0.0022943928279492124, 0.0068831784838476375, 0.0022943928279492124, 0.011471964139746061, 0.00917757131179685, 0.0068831784838476375, 0.06424299918257795, 0.0022943928279492124, 0.0022943928279492124, 0.0022943928279492124, 0.0022943928279492124, 0.0022943928279492124, 0.029827106763339762, 0.0022943928279492124, 0.0022943928279492124, 0.0022943928279492124, 0.0022943928279492124, 0.0022943928279492124, 0.004588785655898425, 0.0022943928279492124, 0.004588785655898425, 0.004588785655898425, 0.004588785655898425, 0.004588785655898425, 0.004588785655898425, 0.004588785655898425, 0.0022943928279492124, 0.0022943928279492124, 0.02753271393539055, 0.011471964139746061, 0.013766356967695275, 0.059654213526679524, 0.00917757131179685, 0.004588785655898425, 0.0183551426235937, 0.0068831784838476375, 0.0022943928279492124, 0.0022943928279492124, 0.0022943928279492124, 0.00917757131179685, 0.0022943928279492124, 0.0022943928279492124, 0.0022943928279492124, 0.004588785655898425, 0.004588785655898425, 0.0022943928279492124, 0.0022943928279492124, 0.0022943928279492124, 0.08030374897822243, 0.004588785655898425, 0.0367102852471874, 0.0022943928279492124, 0.0022943928279492124, 0.0022943928279492124, 0.004588785655898425, 0.0022943928279492124, 0.0068831784838476375, 0.004588785655898425, 0.016060749795644487, 0.004588785655898425, 0.07112617766642558, 0.0022943928279492124, 0.004588785655898425, 0.0022943928279492124, 0.0022943928279492124, 0.0068831784838476375, 0.0022943928279492124, 0.0022943928279492124, 0.0068831784838476375, 0.025238321107441335, 0.0022943928279492124, 0.0022943928279492124, 0.011471964139746061, 0.00917757131179685, 0.0022943928279492124, 0.0022943928279492124, 0.004588785655898425, 0.004588785655898425, 0.03900467807513661, 0.004588785655898425, 0.0022943928279492124, 0.00917757131179685, 0.0022943928279492124, 0.0022943928279492124, 0.016060749795644487, 0.0068831784838476375, 0.016060749795644487, 0.0022943928279492124, 0.0022943928279492124, 0.022943928279492123, 0.004588785655898425, 0.004588785655898425, 0.0022943928279492124, 0.0022943928279492124, 0.0068831784838476375, 0.004588785655898425, 0.0022943928279492124, 0.0022943928279492124, 0.0022943928279492124, 0.004588785655898425, 0.0022943928279492124, 0.0022943928279492124, 0.1651962836123433, 0.0022943928279492124, 0.0022943928279492124, 0.0022943928279492124, 0.0022943928279492124, 0.004588785655898425, 0.0022943928279492124, 0.0022943928279492124, 0.02753271393539055, 0.0022943928279492124, 0.0734205704943748, 0.004588785655898425, 0.004588785655898425, 0.0022943928279492124, 0.011471964139746061, 0.0022943928279492124, 0.004588785655898425, 0.0022943928279492124, 0.0022943928279492124, 0.00917757131179685, 0.0068831784838476375, 0.004588785655898425, 0.0022943928279492124, 0.0022943928279492124, 0.0022943928279492124, 0.0068831784838476375, 0.0022943928279492124, 0.0068831784838476375, 0.02753271393539055, 0.0022943928279492124, 0.0068831784838476375, 0.013766356967695275, 0.0022943928279492124, 0.0022943928279492124, 0.0022943928279492124, 0.0183551426235937, 0.022943928279492123, 0.00917757131179685, 0.0022943928279492124, 0.0068831784838476375, 0.0022943928279492124, 0.0022943928279492124, 0.0022943928279492124, 0.004588785655898425, 0.004588785655898425, 0.0022943928279492124, 0.004588785655898425, 0.016060749795644487, 0.0022943928279492124, 0.0022943928279492124, 0.0022943928279492124, 0.0068831784838476375, 0.0022943928279492124, 0.0022943928279492124, 0.0022943928279492124, 0.0022943928279492124, 0.011471964139746061, 0.0022943928279492124, 0.00917757131179685, 0.0022943928279492124, 0.016060749795644487, 0.0022943928279492124, 0.02064953545154291, 0.0068831784838476375, 0.0022943928279492124, 0.00917757131179685, 0.0022943928279492124, 0.04129907090308582, 0.0022943928279492124, 0.004588785655898425, 0.0022943928279492124, 0.004588785655898425, 0.0068831784838476375, 0.025238321107441335, 0.0022943928279492124, 0.0022943928279492124, 0.0068831784838476375, 0.0022943928279492124, 0.0022943928279492124, 0.0022943928279492124, 0.0022943928279492124, 0.0022943928279492124, 0.011471964139746061, 0.0022943928279492124, 0.0022943928279492124, 0.032121499591288974, 0.011471964139746061, 0.0068831784838476375, 0.011471964139746061, 0.0022943928279492124, 0.0022943928279492124, 0.0022943928279492124, 0.0022943928279492124, 0.08948132029001929, 0.025238321107441335, 0.0022943928279492124, 0.0022943928279492124, 0.022943928279492123, 0.0068831784838476375, 0.0022943928279492124, 0.0022943928279492124, 0.0022943928279492124, 0.0022943928279492124, 0.0022943928279492124, 0.011471964139746061, 0.0022943928279492124, 0.0022943928279492124, 0.0022943928279492124, 0.0022943928279492124, 0.06194860635462873, 0.011471964139746061, 0.004588785655898425, 0.0022943928279492124, 0.029827106763339762, 0.0022943928279492124, 0.004588785655898425, 0.0022943928279492124, 0.0022943928279492124, 0.004588785655898425, 0.0022943928279492124, 0.004588785655898425, 0.045887856558984245, 0.0550654278707811, 0.0022943928279492124, 0.032121499591288974, 0.0022943928279492124, 0.02753271393539055, 0.004588785655898425, 0.004588785655898425, 0.022943928279492123, 0.004588785655898425, 0.004588785655898425, 0.0022943928279492124, 0.0022943928279492124, 0.0068831784838476375, 0.016060749795644487, 0.013766356967695275, 0.0022943928279492124, 0.0022943928279492124, 0.0022943928279492124, 0.0183551426235937, 0.004588785655898425, 0.004588785655898425, 0.004588785655898425, 0.0022943928279492124, 0.022943928279492123, 0.0022943928279492124, 0.016060749795644487, 0.0022943928279492124, 0.004588785655898425, 0.0022943928279492124, 0.0022943928279492124, 0.004588785655898425, 0.0022943928279492124, 0.004588785655898425, 0.0022943928279492124, 0.0022943928279492124, 0.0022943928279492124, 0.0022943928279492124, 0.0022943928279492124, 0.0022943928279492124, 0.0068831784838476375, 0.0022943928279492124, 0.0022943928279492124, 0.0022943928279492124, 0.0022943928279492124, 0.004588785655898425, 0.032121499591288974, 0.06194860635462873, 0.004588785655898425, 0.0022943928279492124, 0.0022943928279492124, 0.004588785655898425, 0.004588785655898425, 0.0022943928279492124, 0.0068831784838476375, 0.004588785655898425, 0.0022943928279492124, 0.0022943928279492124, 0.0022943928279492124, 0.02064953545154291, 0.00917757131179685, 0.0022943928279492124, 0.0022943928279492124, 0.0183551426235937, 0.0022943928279492124, 0.0022943928279492124, 0.0022943928279492124, 0.029827106763339762, 0.0022943928279492124, 0.0022943928279492124, 0.0022943928279492124, 0.004588785655898425, 0.0022943928279492124, 0.0022943928279492124, 0.0022943928279492124, 0.011471964139746061, 0.0022943928279492124, 0.0022943928279492124, 0.0022943928279492124, 0.00917757131179685, 0.0022943928279492124, 0.0068831784838476375, 0.0022943928279492124, 0.0022943928279492124, 0.0022943928279492124, 0.011471964139746061, 0.0022943928279492124, 0.013766356967695275, 0.004588785655898425, 0.0022943928279492124, 0.0022943928279492124, 0.016060749795644487, 0.004588785655898425, 0.011471964139746061, 0.0022943928279492124, 0.0550654278707811, 0.0068831784838476375, 0.022943928279492123, 0.004588785655898425, 0.004588785655898425, 0.011471964139746061, 0.004588785655898425, 0.17896264058003858, 0.02064953545154291, 0.0068831784838476375, 0.0068831784838476375, 0.004588785655898425, 0.0022943928279492124, 0.013766356967695275, 0.0022943928279492124, 0.0183551426235937, 0.0022943928279492124, 0.004588785655898425, 0.0022943928279492124, 0.016060749795644487, 0.0022943928279492124, 0.0022943928279492124, 0.004588785655898425, 0.0022943928279492124, 0.0022943928279492124, 0.004588785655898425, 0.004588785655898425, 0.00917757131179685, 0.0022943928279492124, 0.0068831784838476375, 0.0022943928279492124, 0.004588785655898425, 0.02064953545154291, 0.013766356967695275, 0.004588785655898425, 0.013766356967695275, 0.0022943928279492124, 0.0022943928279492124, 0.0022943928279492124, 0.0068831784838476375, 0.0022943928279492124, 0.00917757131179685, 0.0068831784838476375, 0.0022943928279492124, 0.0022943928279492124, 0.0022943928279492124, 0.0022943928279492124, 0.022943928279492123, 0.004588785655898425, 0.0022943928279492124, 0.0068831784838476375, 0.004588785655898425, 0.0022943928279492124, 0.0183551426235937, 0.0022943928279492124, 0.0022943928279492124, 0.029827106763339762, 0.0022943928279492124, 0.0022943928279492124, 0.0022943928279492124, 0.0022943928279492124, 0.0022943928279492124, 0.0022943928279492124, 0.0022943928279492124, 0.0022943928279492124, 0.0022943928279492124, 0.0068831784838476375, 0.0022943928279492124, 0.004588785655898425, 0.00917757131179685, 0.0183551426235937, 0.0022943928279492124, 0.06194860635462873, 0.004588785655898425, 0.0022943928279492124, 0.0022943928279492124, 0.0022943928279492124, 0.0022943928279492124, 0.011471964139746061, 0.004588785655898425, 0.013766356967695275, 0.004588785655898425, 0.0022943928279492124, 0.004588785655898425, 0.0022943928279492124, 0.004588785655898425, 0.004588785655898425, 0.0022943928279492124, 0.0022943928279492124, 0.0022943928279492124, 0.004588785655898425, 0.0022943928279492124, 0.004588785655898425, 0.0022943928279492124, 0.016060749795644487, 0.0022943928279492124, 0.00917757131179685, 0.011471964139746061, 0.004588785655898425, 0.004588785655898425, 0.0068831784838476375, 0.0022943928279492124, 0.0068831784838476375, 0.0068831784838476375, 0.00917757131179685, 0.0022943928279492124, 0.004588785655898425, 0.004588785655898425, 0.004588785655898425, 0.029827106763339762, 0.02753271393539055, 0.0022943928279492124, 0.0022943928279492124, 0.016060749795644487, 0.0022943928279492124, 0.0022943928279492124, 0.0022943928279492124, 0.0068831784838476375, 0.0022943928279492124, 0.0022943928279492124, 0.0022943928279492124, 0.0022943928279492124, 0.0022943928279492124, 0.011471964139746061, 0.0022943928279492124, 0.0022943928279492124, 0.0022943928279492124, 0.004588785655898425, 0.004588785655898425, 0.004588785655898425, 0.004588785655898425, 0.0022943928279492124, 0.0022943928279492124, 0.011471964139746061, 0.0022943928279492124, 0.0022943928279492124, 0.011471964139746061, 0.011471964139746061, 0.0022943928279492124, 0.0022943928279492124, 0.06424299918257795, 0.0068831784838476375, 0.00917757131179685, 0.022943928279492123, 0.0022943928279492124, 0.004588785655898425, 0.052771035042831885, 0.0022943928279492124, 0.0022943928279492124, 0.04359346373103504, 0.0022943928279492124, 0.011471964139746061, 0.0068831784838476375, 0.0022943928279492124, 0.0068831784838476375, 0.0022943928279492124, 0.0068831784838476375, 0.0022943928279492124, 0.004588785655898425, 0.00917757131179685, 0.0022943928279492124, 0.0022943928279492124, 0.0022943928279492124]]\n",
            "QU [[0.0, 0.0, 0.0, 0.0, 0.0, 0.0, 0.0, 0.0, 0.0, 0.0, 0.0, 0.0, 0.0, 0.0, 0.0, 0.0, 0.0, 0.0, 0.0, 0.0, 0.0, 0.0, 0.0, 0.0, 0.0, 0.0, 0.0, 0.0, 0.0, 0.0, 0.0, 0.0, 0.0, 0.0, 0.0, 0.0, 0.0, 0.0, 0.0, 0.0, 0.0, 0.0, 0.0, 0.0, 0.0, 0.0, 0.0, 0.0, 0.0, 0.0, 0.0, 0.0, 0.0, 0.0, 0.0, 0.0, 0.0, 0.0, 0.0, 0.0, 0.0, 0.0, 0.0, 0.0, 0.0, 0.0, 0.0, 0.0, 0.0, 0.0, 0.0, 0.0, 0.0, 0.0, 0.0, 0.0, 0.0, 0.0, 0.0, 0.0, 0.0, 0.0, 0.0, 0.0, 0.0, 0.0, 0.0, 0.0, 0.0, 0.0, 0.0, 0.0, 0.0, 0.0, 0.0, 0.0, 0.0, 0.0, 0.0, 0.0, 0.0, 0.0, 0.0, 0.0, 0.0, 0.0, 0.0, 0.0, 0.0, 0.0, 0.0, 0.0, 0.0, 0.0, 0.0, 0.0, 0.0, 0.0, 0.0, 0.0, 0.0, 0.0, 0.0, 0.0, 0.0, 0.0, 0.0, 0.0, 0.0, 0.0, 0.0, 0.0, 0.0, 0.0, 0.0, 0.0, 0.0, 0.0, 0.0, 0.0, 0.0, 0.0, 0.0, 0.0, 0.0, 0.0, 0.0, 0.0, 0.0, 0.0, 0.0, 0.0, 0.0, 0.0, 0.0, 0.0, 0.0, 0.0, 0.0, 0.0, 0.0, 0.0, 0.0, 0.0, 0.0, 0.0, 0.0, 0.0, 0.0, 0.0, 0.0, 0.0, 0.0, 0.0, 0.0, 0.0, 0.0, 0.0, 0.0, 0.0, 0.0, 0.0, 0.0, 0.0, 0.0, 0.0, 0.0, 0.0, 0.0, 0.0, 0.0, 0.0, 0.0, 0.0, 0.0, 0.0, 0.0, 0.0, 0.0, 0.0, 0.0, 0.0, 0.0, 0.0, 0.0, 0.0, 0.0, 0.0, 0.0, 0.0, 0.0, 0.0, 0.0, 0.0, 0.0, 0.0, 0.0, 0.0, 0.0, 0.0, 0.0, 0.0, 0.0, 0.0, 0.0, 0.0, 0.0, 0.0, 0.0, 0.0, 0.0, 0.0, 0.0, 0.0, 0.0, 0.0, 0.0, 0.0, 0.0, 0.0, 0.0, 0.0, 0.0, 0.0, 0.0, 0.0, 0.0, 0.0, 0.0, 0.0, 0.0, 0.0, 0.0, 0.0, 0.0, 0.0, 0.0, 0.0, 0.0, 0.0, 0.0, 0.0, 0.0, 0.0, 0.0, 0.0, 0.0, 0.0, 0.0, 0.0, 0.0, 0.0, 0.0, 0.0, 0.0, 0.0, 0.0, 0.0, 0.0, 0.0, 0.0, 0.0, 0.0, 0.0, 0.0, 0.0, 0.0, 0.0, 0.0, 0.0, 0.0, 0.0, 0.0, 0.0, 0.0, 0.0, 0.0, 0.0, 0.0, 0.0, 0.0, 0.0, 0.0, 0.0, 0.0, 0.0, 0.0, 0.0, 0.0, 0.0, 0.0, 0.0, 0.0, 0.0, 0.0, 0.0, 0.0, 0.0, 0.0, 0.0, 0.0, 0.0, 0.0, 0.0, 0.0, 0.0, 0.0, 0.0, 0.0, 0.0, 0.0, 0.0, 0.0, 0.0, 0.0, 0.0, 0.0, 0.0, 0.0, 0.0, 0.0, 0.0, 0.0, 0.0, 0.0, 0.0, 0.0, 0.0, 0.0, 0.0, 0.0, 0.0, 0.0, 0.0, 0.0, 0.0, 0.0, 0.0, 0.0, 0.0, 0.0, 0.0, 0.0, 0.0, 0.0, 0.0, 0.0, 0.0, 0.0, 0.0, 0.0, 0.0, 0.0, 0.0, 0.0, 0.0, 0.0, 0.0, 0.0, 0.0, 0.0, 0.0, 0.0, 0.0, 0.0, 0.0, 0.0, 0.0, 0.0, 0.0, 0.0, 0.0, 0.0, 0.0, 0.0, 0.0, 0.0, 0.0, 0.0, 0.0, 0.0, 0.0, 0.0, 0.0, 0.0, 0.0, 0.0, 0.0, 0.0, 0.0, 0.0, 0.0, 0.0, 0.0, 0.0, 0.0, 0.0, 0.0, 0.0, 0.0, 0.0, 0.0, 0.0, 0.0, 0.0, 0.0, 0.0, 0.0, 0.0, 0.0, 0.0, 0.0, 0.0, 0.0, 0.0, 0.0, 0.0, 0.0, 0.0, 0.0, 0.0, 0.0, 0.0, 0.0, 0.0, 0.0, 0.0, 0.0, 0.0, 0.0, 0.0, 0.0, 0.0, 0.0, 0.0, 0.0, 0.0, 0.0, 0.0, 0.0, 0.0, 0.0, 0.0, 0.0, 0.0, 0.0, 0.0, 0.0, 0.0, 0.0, 0.0, 0.0, 0.0, 0.0, 0.0, 0.0, 0.0, 0.0, 0.0, 0.0, 0.0, 0.0, 0.0, 0.0, 0.0, 0.0, 0.0, 0.0, 0.0, 0.0, 0.0, 0.0, 0.0, 0.0, 0.0, 0.0, 0.0, 0.0, 0.0, 0.0, 0.0, 0.0, 0.0, 0.0, 0.0, 0.0, 0.0, 0.0, 0.0, 0.0, 0.0, 0.0, 0.0, 0.0, 0.0, 0.0, 0.0, 0.0, 0.0, 0.0, 0.0, 0.0, 0.0, 0.0, 0.0, 0.0, 0.0, 0.0, 0.0, 0.0, 0.0, 0.0, 0.0, 0.0, 0.0, 0.0, 0.0, 0.0, 0.0, 0.0, 0.0, 0.0, 0.0, 0.0, 0.0, 0.0, 0.0, 0.0, 0.0, 0.0, 0.0, 0.0, 0.0, 0.0, 0.0, 0.0, 0.0, 0.0, 0.0, 0.0, 0.0, 0.0, 0.0, 0.0, 0.0, 0.0, 0.0, 0.0, 0.0, 0.0, 0.0, 0.0, 0.0, 0.0, 0.0, 0.0, 0.0, 0.0, 0.0, 0.0, 0.0, 0.0, 0.0, 0.0, 0.0, 0.0, 0.0, 0.0, 0.0, 0.0, 0.0, 0.0, 0.0, 0.0, 0.0, 0.0, 0.0, 0.0, 0.0, 0.0, 0.0, 0.0, 0.0, 0.0, 0.0, 0.0, 0.0, 0.0, 0.0, 0.0, 0.0, 0.0, 0.0, 0.0, 0.0, 0.0, 0.0, 0.0, 0.0, 0.0, 0.0, 0.0, 0.0, 0.0, 0.0, 0.0, 0.0, 0.0, 0.0, 0.0, 0.0, 0.0, 0.0, 0.0, 0.0, 0.0, 0.0, 0.0, 0.0, 0.0, 0.0, 0.0, 0.0, 0.0, 0.0, 0.0, 0.0, 0.0, 0.0, 0.0, 0.0, 0.0, 0.0, 0.0, 0.0, 0.0, 0.0, 0.0, 0.0, 0.0, 0.0, 0.0, 0.0, 0.0, 0.0, 0.0, 0.0, 0.0, 0.0, 0.0, 0.0, 0.0, 0.0, 0.0, 0.0, 0.0, 0.0, 0.0, 0.0, 0.0, 0.0, 0.0, 0.0, 0.0, 0.0, 0.0, 0.0, 0.0, 0.0, 0.0, 0.0, 0.0, 0.0, 0.0, 0.0, 0.0, 0.0, 0.0, 0.0, 0.0, 0.0, 0.0, 0.0, 0.0, 0.0, 0.0, 0.0, 0.0, 0.0, 0.0, 0.0, 0.0, 0.0, 0.0, 0.0, 0.0, 0.0, 0.0, 0.0, 0.0, 0.0, 0.0, 0.0, 0.0, 0.0, 0.0, 0.0, 0.0, 0.0, 0.0, 0.0, 0.0, 0.0, 0.0, 0.0, 0.0, 0.0, 0.0, 0.0, 0.0, 0.0, 0.0, 0.0, 0.0, 0.0, 0.0, 0.0, 0.0, 0.0, 0.0, 0.0, 0.0, 0.0, 0.0, 0.0, 0.0, 0.0, 0.0, 0.0, 0.0, 0.0, 0.0, 0.0, 0.0, 0.0, 0.0, 0.0, 0.0, 0.0, 0.0, 0.0, 0.0, 0.0, 0.0, 0.0, 0.0, 0.0, 0.0, 0.0, 0.0, 0.0, 0.0, 0.0, 0.0, 0.0, 0.0, 0.0, 0.0, 0.0, 0.0, 0.0, 0.0, 0.0, 0.0, 0.0, 0.0, 0.0, 0.0, 0.0, 0.0, 0.0, 0.0, 0.0, 0.0, 0.0, 0.0, 0.0, 0.0, 0.0, 0.0, 0.0, 0.0, 0.0, 0.0, 0.0, 0.0, 0.0, 0.0, 0.0, 0.0, 0.0, 0.0, 0.0, 0.0, 0.0, 0.0, 0.0, 0.0, 0.0, 0.0, 0.0, 0.0, 0.0, 0.0, 0.0, 0.0, 0.0, 0.0, 0.0, 0.0, 0.0, 0.0, 0.0, 0.0, 0.0, 0.0, 0.0, 0.0, 0.0, 0.0, 0.0, 0.0, 0.0, 0.0, 0.0, 0.0, 0.0, 0.0, 0.0, 0.0, 0.0, 0.0, 0.0, 0.0, 0.0, 0.0, 0.0, 0.0, 0.0, 0.0, 0.0, 0.0, 0.0, 0.0, 0.0, 0.0, 0.0, 0.0, 0.0, 0.0, 0.0, 0.0, 0.0, 0.0, 0.0, 0.0, 0.0, 0.0, 0.0, 0.0, 0.0, 0.0, 0.0, 0.0, 0.0, 0.0, 0.0, 0.0, 0.0, 0.0, 0.0, 0.0, 0.0, 0.0, 0.0, 0.0, 0.0, 0.0, 0.0, 0.0, 0.0, 0.0, 0.0, 0.0, 0.0, 0.0, 0.0, 0.0, 0.0, 0.0, 0.0, 0.0, 0.0, 0.0, 0.0, 0.0, 0.0, 0.0, 0.0, 0.0, 0.0, 0.0, 0.0, 0.0, 0.0, 0.0, 0.0, 0.0, 0.0, 0.0, 0.0, 0.0, 0.0, 0.0, 0.0, 0.0, 0.0, 0.0, 0.0, 0.0, 0.0, 0.0, 0.0, 0.0, 0.0, 0.0, 0.0, 0.0, 0.0, 0.0, 0.0, 0.0, 0.0, 0.0, 0.0, 0.0, 0.0, 0.0, 0.0, 0.0, 0.0, 0.0, 0.0, 0.0, 0.0, 0.0, 0.0, 0.0, 0.0, 0.0, 0.0, 0.0, 0.0, 0.0, 0.0, 0.0, 0.0, 0.0, 0.0, 0.0, 0.0, 0.0, 0.0, 0.0, 0.0, 0.0, 0.0, 0.0, 0.0, 0.0, 0.0, 0.0, 0.0, 0.0, 0.0, 0.0, 0.0, 0.0, 0.0, 0.0, 0.0, 0.0, 0.0, 0.0, 0.0, 0.0, 0.0, 0.0, 0.0, 0.0, 0.0, 0.0, 0.0, 0.0, 0.0, 0.0, 0.0, 0.0, 0.0, 0.0, 0.0, 0.0, 0.0, 0.0, 0.0, 0.0, 0.0, 0.0, 0.0, 0.0, 0.0, 0.0, 0.0, 0.0, 0.0, 0.0, 0.0, 0.0, 0.0, 0.0, 0.0, 0.0, 0.0, 0.0, 0.0, 0.0, 0.0, 0.0, 0.0, 0.0, 0.0, 0.0, 0.0, 0.0, 0.0, 0.0, 0.0, 0.0, 0.0, 0.0, 0.0, 0.0, 0.0, 0.0, 0.0, 0.0, 0.0, 0.0, 0.0, 0.0, 0.0, 0.0, 0.0, 0.0, 0.0, 0.0, 0.0, 0.0, 0.0, 0.0, 0.0, 0.0, 0.0, 0.0, 0.0, 0.0, 0.0, 0.0, 0.0, 0.0, 0.0, 0.0, 0.0, 0.0, 0.0, 0.0, 0.0, 0.0, 0.0, 0.0, 0.0, 0.0, 0.0, 0.0, 0.0, 0.0, 0.0, 0.0, 0.0, 0.0, 0.0, 0.0, 0.0, 0.0, 0.0, 0.0, 0.0, 0.0, 0.0, 0.0, 0.0, 0.0, 0.0, 0.0, 0.0, 0.0, 0.0, 0.0, 0.0, 0.0, 0.0, 0.0, 0.0, 0.0, 0.0, 0.0, 0.4472135954999579, 0.0, 0.0, 0.0, 0.0, 0.0, 0.0, 0.0, 0.0, 0.0, 0.0, 0.0, 0.0, 0.0, 0.0, 0.0, 0.0, 0.0, 0.0, 0.0, 0.0, 0.0, 0.0, 0.0, 0.0, 0.0, 0.0, 0.0, 0.0, 0.0, 0.0, 0.0, 0.0, 0.0, 0.0, 0.0, 0.0, 0.0, 0.0, 0.0, 0.0, 0.0, 0.0, 0.0, 0.0, 0.0, 0.0, 0.0, 0.0, 0.0, 0.0, 0.0, 0.0, 0.0, 0.0, 0.0, 0.0, 0.0, 0.0, 0.0, 0.0, 0.0, 0.0, 0.0, 0.0, 0.0, 0.0, 0.0, 0.0, 0.0, 0.0, 0.0, 0.0, 0.0, 0.8944271909999159, 0.0, 0.0, 0.0, 0.0, 0.0, 0.0, 0.0, 0.0, 0.0, 0.0, 0.0, 0.0, 0.0, 0.0, 0.0, 0.0, 0.0, 0.0, 0.0, 0.0, 0.0, 0.0, 0.0, 0.0, 0.0, 0.0, 0.0, 0.0, 0.0, 0.0, 0.0, 0.0, 0.0, 0.0, 0.0, 0.0, 0.0, 0.0, 0.0, 0.0, 0.0, 0.0, 0.0, 0.0, 0.0, 0.0, 0.0, 0.0, 0.0, 0.0, 0.0, 0.0, 0.0, 0.0, 0.0, 0.0, 0.0, 0.0, 0.0, 0.0, 0.0, 0.0, 0.0, 0.0, 0.0, 0.0, 0.0, 0.0, 0.0, 0.0, 0.0, 0.0, 0.0, 0.0, 0.0, 0.0, 0.0, 0.0, 0.0, 0.0, 0.0, 0.0, 0.0, 0.0, 0.0, 0.0, 0.0, 0.0, 0.0, 0.0, 0.0, 0.0, 0.0, 0.0, 0.0, 0.0, 0.0, 0.0, 0.0, 0.0, 0.0, 0.0, 0.0, 0.0, 0.0, 0.0, 0.0, 0.0, 0.0, 0.0, 0.0, 0.0, 0.0, 0.0, 0.0, 0.0, 0.0, 0.0, 0.0, 0.0, 0.0, 0.0, 0.0, 0.0, 0.0, 0.0, 0.0, 0.0, 0.0, 0.0, 0.0, 0.0, 0.0, 0.0, 0.0, 0.0, 0.0, 0.0, 0.0, 0.0, 0.0, 0.0, 0.0, 0.0, 0.0, 0.0, 0.0, 0.0, 0.0, 0.0, 0.0, 0.0, 0.0, 0.0, 0.0, 0.0, 0.0, 0.0, 0.0, 0.0, 0.0, 0.0, 0.0, 0.0, 0.0, 0.0, 0.0, 0.0, 0.0, 0.0, 0.0, 0.0, 0.0, 0.0, 0.0, 0.0, 0.0, 0.0, 0.0, 0.0, 0.0, 0.0, 0.0, 0.0, 0.0, 0.0, 0.0, 0.0, 0.0, 0.0, 0.0, 0.0, 0.0, 0.0, 0.0, 0.0, 0.0, 0.0, 0.0, 0.0, 0.0, 0.0, 0.0, 0.0, 0.0, 0.0, 0.0, 0.0, 0.0, 0.0, 0.0, 0.0, 0.0, 0.0, 0.0, 0.0, 0.0, 0.0, 0.0, 0.0, 0.0, 0.0, 0.0, 0.0, 0.0, 0.0, 0.0, 0.0, 0.0, 0.0, 0.0, 0.0, 0.0, 0.0, 0.0, 0.0, 0.0, 0.0, 0.0, 0.0, 0.0, 0.0, 0.0, 0.0, 0.0, 0.0, 0.0, 0.0, 0.0, 0.0, 0.0, 0.0, 0.0, 0.0, 0.0, 0.0, 0.0, 0.0, 0.0, 0.0, 0.0, 0.0, 0.0, 0.0, 0.0, 0.0, 0.0, 0.0, 0.0, 0.0, 0.0, 0.0, 0.0, 0.0, 0.0, 0.0, 0.0, 0.0, 0.0, 0.0, 0.0, 0.0, 0.0, 0.0, 0.0, 0.0, 0.0, 0.0, 0.0, 0.0, 0.0, 0.0, 0.0, 0.0, 0.0, 0.0, 0.0, 0.0, 0.0, 0.0, 0.0, 0.0, 0.0, 0.0, 0.0, 0.0, 0.0, 0.0, 0.0, 0.0, 0.0, 0.0, 0.0, 0.0, 0.0, 0.0, 0.0, 0.0, 0.0, 0.0, 0.0, 0.0, 0.0, 0.0, 0.0, 0.0, 0.0, 0.0, 0.0, 0.0, 0.0, 0.0, 0.0, 0.0, 0.0, 0.0, 0.0, 0.0, 0.0, 0.0, 0.0, 0.0, 0.0, 0.0, 0.0, 0.0, 0.0, 0.0, 0.0, 0.0, 0.0, 0.0, 0.0, 0.0, 0.0, 0.0, 0.0, 0.0, 0.0, 0.0, 0.0, 0.0, 0.0, 0.0, 0.0, 0.0, 0.0, 0.0, 0.0, 0.0, 0.0, 0.0, 0.0, 0.0, 0.0, 0.0, 0.0, 0.0, 0.0, 0.0, 0.0, 0.0, 0.0, 0.0, 0.0, 0.0, 0.0, 0.0, 0.0, 0.0, 0.0, 0.0, 0.0, 0.0, 0.0, 0.0, 0.0, 0.0, 0.0, 0.0, 0.0, 0.0, 0.0, 0.0, 0.0, 0.0, 0.0, 0.0, 0.0, 0.0, 0.0, 0.0, 0.0, 0.0, 0.0, 0.0, 0.0, 0.0, 0.0, 0.0, 0.0, 0.0, 0.0, 0.0, 0.0, 0.0, 0.0, 0.0, 0.0, 0.0, 0.0, 0.0, 0.0, 0.0, 0.0, 0.0, 0.0, 0.0, 0.0, 0.0, 0.0, 0.0, 0.0, 0.0, 0.0, 0.0, 0.0, 0.0, 0.0, 0.0, 0.0, 0.0, 0.0, 0.0, 0.0, 0.0, 0.0, 0.0, 0.0, 0.0, 0.0, 0.0, 0.0, 0.0, 0.0, 0.0, 0.0, 0.0, 0.0, 0.0, 0.0, 0.0, 0.0, 0.0, 0.0, 0.0, 0.0, 0.0, 0.0, 0.0, 0.0, 0.0, 0.0, 0.0, 0.0, 0.0, 0.0, 0.0, 0.0, 0.0, 0.0, 0.0, 0.0, 0.0, 0.0, 0.0, 0.0, 0.0, 0.0, 0.0, 0.0, 0.0, 0.0, 0.0, 0.0, 0.0, 0.0, 0.0, 0.0, 0.0, 0.0, 0.0, 0.0, 0.0, 0.0, 0.0, 0.0, 0.0, 0.0, 0.0, 0.0, 0.0, 0.0, 0.0, 0.0, 0.0, 0.0, 0.0, 0.0, 0.0, 0.0, 0.0, 0.0, 0.0, 0.0, 0.0, 0.0, 0.0, 0.0, 0.0, 0.0, 0.0, 0.0, 0.0, 0.0, 0.0, 0.0, 0.0, 0.0, 0.0, 0.0, 0.0, 0.0, 0.0, 0.0, 0.0, 0.0, 0.0, 0.0, 0.0, 0.0, 0.0, 0.0, 0.0, 0.0, 0.0, 0.0, 0.0, 0.0, 0.0, 0.0, 0.0, 0.0, 0.0, 0.0, 0.0, 0.0, 0.0, 0.0, 0.0, 0.0, 0.0, 0.0, 0.0, 0.0, 0.0, 0.0, 0.0, 0.0, 0.0, 0.0, 0.0, 0.0, 0.0, 0.0, 0.0, 0.0, 0.0, 0.0, 0.0, 0.0, 0.0, 0.0, 0.0, 0.0, 0.0, 0.0, 0.0, 0.0, 0.0, 0.0, 0.0, 0.0, 0.0, 0.0, 0.0, 0.0, 0.0, 0.0, 0.0, 0.0, 0.0, 0.0, 0.0, 0.0, 0.0, 0.0, 0.0, 0.0, 0.0, 0.0, 0.0, 0.0, 0.0, 0.0, 0.0, 0.0, 0.0, 0.0, 0.0, 0.0, 0.0, 0.0, 0.0, 0.0, 0.0, 0.0, 0.0, 0.0, 0.0, 0.0, 0.0, 0.0, 0.0, 0.0, 0.0, 0.0, 0.0, 0.0, 0.0, 0.0, 0.0, 0.0, 0.0, 0.0, 0.0, 0.0, 0.0, 0.0, 0.0, 0.0, 0.0, 0.0, 0.0, 0.0, 0.0, 0.0, 0.0, 0.0, 0.0, 0.0, 0.0, 0.0, 0.0, 0.0, 0.0, 0.0, 0.0, 0.0, 0.0, 0.0, 0.0, 0.0, 0.0, 0.0, 0.0, 0.0, 0.0, 0.0, 0.0, 0.0, 0.0, 0.0, 0.0, 0.0, 0.0, 0.0, 0.0, 0.0, 0.0, 0.0, 0.0, 0.0, 0.0, 0.0, 0.0, 0.0, 0.0, 0.0, 0.0, 0.0, 0.0, 0.0, 0.0, 0.0, 0.0, 0.0, 0.0, 0.0, 0.0, 0.0, 0.0, 0.0, 0.0, 0.0, 0.0, 0.0, 0.0, 0.0, 0.0, 0.0, 0.0, 0.0, 0.0, 0.0, 0.0, 0.0, 0.0, 0.0, 0.0, 0.0, 0.0, 0.0, 0.0, 0.0, 0.0, 0.0, 0.0, 0.0, 0.0, 0.0, 0.0, 0.0, 0.0, 0.0, 0.0, 0.0, 0.0, 0.0, 0.0, 0.0, 0.0, 0.0, 0.0, 0.0, 0.0, 0.0, 0.0, 0.0, 0.0, 0.0, 0.0, 0.0, 0.0, 0.0, 0.0, 0.0, 0.0, 0.0, 0.0, 0.0, 0.0, 0.0, 0.0, 0.0, 0.0, 0.0, 0.0, 0.0, 0.0, 0.0, 0.0, 0.0, 0.0, 0.0, 0.0, 0.0, 0.0, 0.0, 0.0, 0.0, 0.0, 0.0, 0.0, 0.0, 0.0, 0.0, 0.0, 0.0, 0.0, 0.0, 0.0, 0.0, 0.0, 0.0, 0.0, 0.0, 0.0, 0.0, 0.0, 0.0, 0.0, 0.0, 0.0, 0.0, 0.0, 0.0, 0.0, 0.0, 0.0, 0.0, 0.0, 0.0, 0.0, 0.0, 0.0, 0.0, 0.0, 0.0, 0.0, 0.0, 0.0, 0.0, 0.0, 0.0, 0.0, 0.0, 0.0, 0.0, 0.0, 0.0, 0.0, 0.0, 0.0, 0.0, 0.0, 0.0, 0.0, 0.0, 0.0, 0.0, 0.0, 0.0, 0.0, 0.0, 0.0, 0.0, 0.0, 0.0, 0.0, 0.0, 0.0, 0.0, 0.0, 0.0, 0.0, 0.0, 0.0, 0.0, 0.0, 0.0, 0.0, 0.0, 0.0, 0.0, 0.0, 0.0, 0.0, 0.0, 0.0, 0.0, 0.0, 0.0, 0.0, 0.0, 0.0, 0.0, 0.0, 0.0, 0.0, 0.0, 0.0, 0.0, 0.0, 0.0, 0.0, 0.0, 0.0, 0.0, 0.0, 0.0, 0.0, 0.0, 0.0, 0.0, 0.0, 0.0, 0.0, 0.0, 0.0, 0.0, 0.0, 0.0, 0.0, 0.0, 0.0, 0.0, 0.0, 0.0, 0.0, 0.0, 0.0, 0.0, 0.0, 0.0, 0.0, 0.0, 0.0]]\n",
            "filed {0: ('/content/drive/MyDrive/database/s10994-023-06324-x.docx', 's10994-023-06324-x.docx'), 1: ('/content/drive/MyDrive/database/Generativeadversarialnetworks--introductionandoutlook.pdf', 'Generativeadversarialnetworks--introductionandoutlook.pdf'), 2: ('/content/drive/MyDrive/database/s10994-023-06310-3.pdf', 's10994-023-06310-3.pdf'), 3: ('/content/drive/MyDrive/database/1-s2.0-S2667096820300045-main.docx', '1-s2.0-S2667096820300045-main.docx'), 4: ('/content/drive/MyDrive/database/Meta-Learning_in_Neural_Networks_A_Survey.pdf', 'Meta-Learning_in_Neural_Networks_A_Survey.pdf'), 5: ('/content/drive/MyDrive/database/s10994-021-05977-w.pdf', 's10994-021-05977-w.pdf'), 6: ('/content/drive/MyDrive/database/s10994-022-06200-0.pdf', 's10994-022-06200-0.pdf'), 7: ('/content/drive/MyDrive/database/s10994-023-06324-x.pdf', 's10994-023-06324-x.pdf'), 8: ('/content/drive/MyDrive/database/SegNet_A_Deep_Convolutional_Encoder-Decoder_Architecture_for_Image_Segmentation.pdf', 'SegNet_A_Deep_Convolutional_Encoder-Decoder_Architecture_for_Image_Segmentation.pdf')}\n",
            "R= 0\n",
            "FV= 1\n",
            "[]\n"
          ]
        }
      ]
    }
  ]
}